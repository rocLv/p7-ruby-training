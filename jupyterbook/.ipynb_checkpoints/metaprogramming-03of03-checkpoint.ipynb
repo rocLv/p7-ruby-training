{
 "cells": [
  {
   "cell_type": "code",
   "execution_count": null,
   "id": "e049bdba-1914-4c71-8dba-fa4380508051",
   "metadata": {},
   "outputs": [],
   "source": [
    "BasicObject.instance_methods"
   ]
  },
  {
   "cell_type": "markdown",
   "id": "01047966-94ad-4971-b3b6-2f63fff0e4f5",
   "metadata": {},
   "source": [
    "# instance_eval VS instance_exec\n",
    "\n",
    "### BasicObject#instance_eval\n",
    "\n",
    "```ruby\n",
    "instance_eval(string [, filename [, lineno]] ) → objclick to toggle source\n",
    "instance_eval {|obj| block } → obj\n",
    "```\n",
    "\n",
    "### BasicObject#instance_exec\n",
    "```ruby\n",
    "instance_exec(arg...) {|var...| block }\n",
    "```"
   ]
  },
  {
   "cell_type": "code",
   "execution_count": null,
   "id": "5bd93a71-4ab5-45fd-88fa-1321c81dc90a",
   "metadata": {},
   "outputs": [],
   "source": [
    "class KlassWithSecret\n",
    "  def initialize\n",
    "    @secret = 99\n",
    "  end\n",
    "  private\n",
    "  def the_secret\n",
    "    \"Ssssh! The secret is #{@secret}.\"\n",
    "  end\n",
    "end\n",
    "k = KlassWithSecret.new\n",
    "k.instance_eval { @secret }          #=> 99\n",
    "k.instance_eval { the_secret }       #=> \"Ssssh! The secret is 99.\"\n",
    "k.instance_eval {|obj| obj == self } #=> true"
   ]
  },
  {
   "cell_type": "code",
   "execution_count": null,
   "id": "08b884b0-4d26-4047-83b8-b1b50e08021c",
   "metadata": {},
   "outputs": [],
   "source": [
    "class KlassWithSecret\n",
    "  def initialize\n",
    "    @secret = 99\n",
    "  end\n",
    "end\n",
    "k = KlassWithSecret.new\n",
    "k.instance_exec(5) {|x| @secret+x }   #=> 104"
   ]
  },
  {
   "cell_type": "markdown",
   "id": "db8031c9-444b-43cd-a434-705bb76508f9",
   "metadata": {},
   "source": [
    "<img src=\"assets/Superman.jpg\" alt=\"Drawing\" style=\"width: 100%; height: 100%\"/>"
   ]
  },
  {
   "cell_type": "markdown",
   "id": "03fd28fb-ba98-4c78-8b92-060a9e8c447e",
   "metadata": {},
   "source": [
    "# 实现一个DSL（领域专属语言）"
   ]
  },
  {
   "cell_type": "markdown",
   "id": "7216ccdc-9f4f-45d6-b246-9bd8d0d61424",
   "metadata": {},
   "source": [
    "<center>                      \n",
    "<img src=\"assets/dsl.jpg\" width=\"500\" height=\"450\" align=\"center\"/>                                                             </center>             "
   ]
  },
  {
   "cell_type": "markdown",
   "id": "d5e1e56f-dc4d-4be8-b4d6-c065918f5b38",
   "metadata": {},
   "source": [
    "# FactoryBot\n",
    "\n",
    "`FactoryBot.build(User)`实现以下三个目标:\n",
    "\n",
    "* 获取 user factory\n",
    "* 设置 user的属性, 属性通过参数可以覆写\n",
    "* 返回 user"
   ]
  },
  {
   "cell_type": "code",
   "execution_count": null,
   "id": "e9826a68-fcaf-4bc8-bcb5-604e55d8a32d",
   "metadata": {},
   "outputs": [],
   "source": [
    "FactoryBot.define do\n",
    "  factory :user\n",
    "end"
   ]
  },
  {
   "cell_type": "markdown",
   "id": "4d806dcf-12b1-4238-bcb4-08d425d8dc95",
   "metadata": {},
   "source": [
    "# FactoryBot 实际效果\n",
    "\n",
    "```ruby\n",
    "FactoryBot.define do\n",
    "  factory User do\n",
    "    name \"Gabe BW\"\n",
    "    pet_name \"Toto\"\n",
    "  end\n",
    "end\n",
    "\n",
    "user = FactoryBot.build(User)\n",
    "\n",
    "puts user.name == 'Gabe BW'  # true\n",
    "puts user.pet_name == 'Toto' # true\n",
    "\n",
    "other_user = FactoryBot.build(User, name: \"Bob\")\n",
    "\n",
    "puts other_user.name == 'Bob'      # true\n",
    "puts other_user.pet_name == 'Toto' # true\n",
    "```"
   ]
  },
  {
   "cell_type": "markdown",
   "id": "6a60dabe-eb55-449c-9d30-7a98fe322b27",
   "metadata": {},
   "source": [
    "## Define User, Post\n",
    "\n"
   ]
  },
  {
   "cell_type": "code",
   "execution_count": null,
   "id": "df5f7f9f-baf1-4e73-8a55-2c5cce1eeda3",
   "metadata": {},
   "outputs": [],
   "source": [
    "class User\n",
    "  attr_accessor :name, :pet_name\n",
    "end\n",
    "\n",
    "class Post\n",
    "end"
   ]
  },
  {
   "cell_type": "markdown",
   "id": "2b32caa7-4386-43ce-b10d-ae4fc6354d26",
   "metadata": {},
   "source": [
    "# 分析\n",
    "\n",
    "```ruby\n",
    "FactoryBot.define do\n",
    "  factory(User) do\n",
    "    name(\"Gabe B-W\")\n",
    "    pet_name(\"Toto\")\n",
    "  end\n",
    "end\n",
    "```"
   ]
  },
  {
   "cell_type": "code",
   "execution_count": null,
   "id": "055f1ee5-c8ca-48b4-ada3-f04054002892",
   "metadata": {},
   "outputs": [],
   "source": []
  },
  {
   "cell_type": "code",
   "execution_count": null,
   "id": "8e7d7924-c8c4-4ea6-a532-eb47d2f4e6d5",
   "metadata": {},
   "outputs": [],
   "source": [
    "class DefinitionProxy\n",
    "  def factory(factory_class)\n",
    "    puts \"OK, defining a #{factory_class} factory.\"\n",
    "  end\n",
    "end\n",
    "\n",
    "definition_proxy = DefinitionProxy.new\n",
    "\n",
    "definition_proxy.instance_eval do\n",
    "  factory User\n",
    "end"
   ]
  },
  {
   "cell_type": "code",
   "execution_count": null,
   "id": "67337c79-dff7-4a9f-98ae-ae1ab43d9afe",
   "metadata": {},
   "outputs": [],
   "source": [
    "module FactoryBot\n",
    "  def self.define(&block)\n",
    "    definition_proxy = DefinitionProxy.new\n",
    "    definition_proxy.instance_eval(&block)\n",
    "  end\n",
    "end"
   ]
  },
  {
   "cell_type": "code",
   "execution_count": null,
   "id": "01111ed4-a4d9-4d40-8e1c-8f45c3821166",
   "metadata": {},
   "outputs": [],
   "source": [
    "FactoryBot.define do\n",
    "  factory User\n",
    "end"
   ]
  },
  {
   "cell_type": "code",
   "execution_count": null,
   "id": "00f87a16-521d-42be-a151-7ee2025ef659",
   "metadata": {},
   "outputs": [],
   "source": [
    "class DefinitionProxy\n",
    "  def factory(factory_class)\n",
    "  end\n",
    "end\n",
    "\n",
    "FactoryBot.define do\n",
    "  factory User\n",
    "end\n"
   ]
  },
  {
   "cell_type": "markdown",
   "id": "f16e35cd-8f9b-439a-a545-5b8708098e1c",
   "metadata": {},
   "source": [
    "#  Factory Registers"
   ]
  },
  {
   "cell_type": "code",
   "execution_count": null,
   "id": "fde2e107-081a-4495-8c92-f7e196e84e34",
   "metadata": {},
   "outputs": [],
   "source": [
    "module FactoryBot\n",
    "  @registry = {}\n",
    "\n",
    "  def self.registry\n",
    "    @registry\n",
    "  end\n",
    "end"
   ]
  },
  {
   "cell_type": "code",
   "execution_count": null,
   "id": "52059a9f-5052-4ddb-8125-fbaf6f21ad73",
   "metadata": {},
   "outputs": [],
   "source": [
    "class DefinitionProxy\n",
    "  def factory(factory_class)\n",
    "    factory = lambda { puts \"OK, creating a #{factory_class}.\" }\n",
    "    FactoryBot.registry[factory_class] = factory\n",
    "  end\n",
    "end"
   ]
  },
  {
   "cell_type": "code",
   "execution_count": null,
   "id": "88a1173a-899d-44b0-beef-f0c9c285b6e5",
   "metadata": {},
   "outputs": [],
   "source": [
    "FactoryBot.define do\n",
    "  factory User\n",
    "end\n",
    "\n",
    "FactoryBot.registry[User].call"
   ]
  },
  {
   "cell_type": "markdown",
   "id": "cb9a08c5-6fa4-4b6b-b18e-92fefddefd2b",
   "metadata": {},
   "source": [
    "# 目标DSL\n",
    "\n",
    "```ruby\n",
    "factory User do\n",
    "  name \"Gabe BW\"\n",
    "  pet_name \"Toto\"\n",
    "end\n",
    "```\n",
    "\n",
    "等价于\n",
    "\n",
    "```ruby\n",
    "user = User.new\n",
    "user.name = \"Gabe BW\"\n",
    "user.pet_name = \"Toto\"\n",
    "return user\n",
    "\n",
    "```"
   ]
  },
  {
   "cell_type": "code",
   "execution_count": null,
   "id": "ec0a81fc-24ad-45c0-96e3-96e79f4296d5",
   "metadata": {},
   "outputs": [],
   "source": [
    "class Factory < BasicObject\n",
    "  def initialize\n",
    "    @attributes = {}\n",
    "  end\n",
    "\n",
    "  attr_reader :attributes\n",
    "\n",
    "  def method_missing(name, *args, &block)\n",
    "    p arts[0]\n",
    "    attributes[name] = args[0]\n",
    "  end\n",
    "end\n",
    "\n",
    "class DefinitionProxy\n",
    "  def factory(factory_class, &block)\n",
    "    factory = Factory.new\n",
    "    if block_given?\n",
    "      factory.instance_eval(&block)\n",
    "    end\n",
    "    FactoryBot.registry[factory_class] = factory\n",
    "  end\n",
    "end"
   ]
  },
  {
   "cell_type": "markdown",
   "id": "1de25e8e-a76b-44c2-97cb-86cb77c71607",
   "metadata": {},
   "source": [
    "# FactoryBot.build\n",
    "\n",
    "`FactoryBot.build(User)`实现以下三个目标:\n",
    "\n",
    "* 获取 user factory\n",
    "* 设置 user的属性, 属性通过参数可以覆写\n",
    "* 返回 user"
   ]
  },
  {
   "cell_type": "code",
   "execution_count": null,
   "id": "2447373b-0697-4d3f-9ed3-d1744599e0d1",
   "metadata": {},
   "outputs": [],
   "source": [
    "module FactoryBot\n",
    "  def self.build(factory_class, overrides = {})\n",
    "    instance = factory_class.new\n",
    "\n",
    "    # Set attributes on the user\n",
    "    factory = registry[factory_class]\n",
    "    attributes = factory.attributes.merge(overrides)\n",
    "    attributes.each do |attribute_name, value|\n",
    "      instance.send(\"#{attribute_name}=\", value)\n",
    "    end\n",
    "\n",
    "    # Return the user\n",
    "    instance\n",
    "  end\n",
    "end"
   ]
  },
  {
   "cell_type": "markdown",
   "id": "24b37539-bbea-4ddd-af8c-ffa63e4bedc5",
   "metadata": {},
   "source": [
    "# All in One"
   ]
  },
  {
   "cell_type": "code",
   "execution_count": null,
   "id": "4dd54a53-5266-462f-b7e9-a5e6b1e4a5f4",
   "metadata": {},
   "outputs": [],
   "source": [
    "module FactoryBot\n",
    "  @registry = {}\n",
    "\n",
    "  def self.registry\n",
    "    @registry\n",
    "  end\n",
    "\n",
    "  def self.define(&block)\n",
    "    definition_proxy = DefinitionProxy.new\n",
    "    definition_proxy.instance_eval(&block)\n",
    "  end\n",
    "\n",
    "  def self.build(factory_class, overrides = {})\n",
    "    instance = factory_class.new\n",
    "    factory = registry[factory_class]\n",
    "    attributes = factory.attributes.merge(overrides)\n",
    "    attributes.each do |attribute_name, value|\n",
    "      instance.send(\"#{attribute_name}=\", value)\n",
    "    end\n",
    "    instance\n",
    "  end\n",
    "end\n",
    "\n",
    "class DefinitionProxy\n",
    "  def factory(factory_class, &block)\n",
    "    factory = Factory.new\n",
    "    factory.instance_eval(&block)\n",
    "    FactoryBot.registry[factory_class] = factory\n",
    "  end\n",
    "end\n",
    "\n",
    "class Factory < BasicObject\n",
    "  def initialize\n",
    "    @attributes = {}\n",
    "  end\n",
    "\n",
    "  attr_reader :attributes\n",
    "\n",
    "  def method_missing(name, *args, &block)\n",
    "    @attributes[name] = args[0]\n",
    "  end\n",
    "end"
   ]
  },
  {
   "cell_type": "code",
   "execution_count": null,
   "id": "ab9dabcd-6514-4950-b4af-7188352a00fd",
   "metadata": {},
   "outputs": [],
   "source": [
    "FactoryBot.define do\n",
    "  factory User do\n",
    "    name \"Gabe BW\"\n",
    "    pet_name \"Toto\"\n",
    "  end\n",
    "end\n",
    "\n",
    "user = FactoryBot.build(User)\n",
    "puts user.name\n",
    "#=> \"Gabe BW\"\n",
    "puts user.pet_name\n",
    "#=> \"Toto\"\n",
    "\n",
    "other_user = FactoryBot.build(User, name: 'Bob')\n",
    "puts other_user.name\n",
    "#=> \"Bob\"\n",
    "puts other_user.pet_name"
   ]
  },
  {
   "cell_type": "markdown",
   "id": "cb9a1a8f-7356-49ad-8aff-c530275eaadf",
   "metadata": {},
   "source": [
    "# Even Better\n",
    "\n",
    "```ruby\n",
    "# Plain Ruby\n",
    "Object.const_get(:user.capitalize) #=> User\n",
    "\n",
    "# ActiveSupport\n",
    ":user.capitalize.constantize #=> User\n",
    "```"
   ]
  },
  {
   "cell_type": "markdown",
   "id": "75a76e90-826a-47a9-8fe2-c56c3cc278d5",
   "metadata": {},
   "source": [
    "<center>                      \n",
    "<img src=\"assets/dsl.jpg\" width=\"500\" height=\"450\" align=\"center\"/>                                                             </center>                             "
   ]
  },
  {
   "cell_type": "markdown",
   "id": "65290896-1399-4af1-af9e-e206ec357aa7",
   "metadata": {},
   "source": [
    "<center>                      \n",
    "<img src=\"assets/ruby.jpg\" width=\"1024\" height=\"768\" align=\"center\"/>    \n",
    "\n",
    "</center>      \n",
    "<p style=\"margin-top: -250px; margin-left: 300px;font-size: 82px; font-height: bold;color:white;\n",
    "          \">Class Definition\n",
    "</p>"
   ]
  },
  {
   "cell_type": "markdown",
   "id": "071b405e-dee7-448c-8c9d-b00bd363be3f",
   "metadata": {},
   "source": [
    "<center>\n",
    "    <p style=\"margin-top: 100px; font-size: 82px; font-height: bold;\n",
    "              \">* 定义Ruby类实际上是在<span style=\"color:red\">执行</span>一段普通的<span style=\"color:red\">代码</span>\n",
    "   </p>\n",
    "</center>"
   ]
  },
  {
   "cell_type": "markdown",
   "id": "b0a70bca-f534-480d-bd59-4adf133a0828",
   "metadata": {},
   "source": [
    "<div style=\"boder: 2; width: 100%\"></div>\n",
    "<p style=\"margin-top: 100px;\"></p>\n",
    "\n",
    "# * 类宏（Class Macro）\n",
    "\n",
    "# * 环绕别名（Around Alias）\n",
    "\n",
    "# * 单件类（singleton class，aka eigenclass）\n",
    "    （据说掌握了单件类就是ruby专家了 LOL）\n",
    "\n",
    "\n",
    "\n",
    "<p style=\"margin-bottom: 100px;\"></p>"
   ]
  },
  {
   "cell_type": "markdown",
   "id": "0072412b-cae7-4eb4-85cd-8725757c861a",
   "metadata": {
    "tags": []
   },
   "source": [
    "\n",
    "<center>                      \n",
    "<img src=\"assets/ruby.jpg\" width=\"100%\" height=\"100%\" align=\"center\"/>    \n",
    "\n",
    "</center>      \n",
    "<p style=\"margin-top: -350px; margin-left: 200px;font-size: 82px; font-height: bold;color:white;\n",
    "          \">Inside Class Definition\n",
    "\n",
    "</p>"
   ]
  },
  {
   "cell_type": "code",
   "execution_count": null,
   "id": "c1046b07-52a0-41e1-8939-ef7820a3b377",
   "metadata": {},
   "outputs": [],
   "source": [
    "class MyClass\n",
    "  p \"hello\"\n",
    "end"
   ]
  },
  {
   "cell_type": "markdown",
   "id": "e371dbd8-7936-42f9-93a1-1edf9305107e",
   "metadata": {},
   "source": [
    "# class也会返回最后一条语句的值哦~"
   ]
  },
  {
   "cell_type": "code",
   "execution_count": null,
   "id": "9bf369b0-b72b-4a50-b256-fb8bccb2c2f4",
   "metadata": {},
   "outputs": [],
   "source": [
    "result = class MyClass\n",
    "  self # 当前类\n",
    "end\n",
    "\n",
    "p result"
   ]
  },
  {
   "cell_type": "code",
   "execution_count": null,
   "id": "f9b62bab-b627-4fdf-8073-570926b42748",
   "metadata": {},
   "outputs": [],
   "source": [
    "Class.class"
   ]
  },
  {
   "cell_type": "markdown",
   "id": "879558b3-8cdd-44ed-b23d-2de26e058fd3",
   "metadata": {},
   "source": [
    "# self\n",
    "\n",
    "> 不管你处在ruby程序的哪一个位置，总有一个当前的对象： self\n"
   ]
  },
  {
   "cell_type": "code",
   "execution_count": null,
   "id": "f7c06216-abda-4fc6-a889-e1967fb83ba9",
   "metadata": {},
   "outputs": [],
   "source": [
    "self"
   ]
  },
  {
   "cell_type": "code",
   "execution_count": null,
   "id": "315d8490-5e12-46cd-b2c0-24b99d120e7e",
   "metadata": {},
   "outputs": [],
   "source": [
    "module MyModule\n",
    "  p \"MyModule's self: \" + self.inspect\n",
    "\n",
    "  class MyClass\n",
    "    p \"MyClass's self: \" + self.inspect\n",
    "\n",
    "    def self.my_method_in_myclass\n",
    "      p \"my_method_in_myclass's self: \" + self.inspect\n",
    "    end\n",
    "  end\n",
    "end\n",
    "\n",
    "MyModule::MyClass.my_method_in_myclass"
   ]
  },
  {
   "cell_type": "code",
   "execution_count": null,
   "id": "4d030bf5-4b5e-4c5f-9581-518f9536686d",
   "metadata": {},
   "outputs": [],
   "source": [
    "class MyClass\n",
    "  def method_one\n",
    "    def method_two\n",
    "        'Hello'\n",
    "    end\n",
    "  end\n",
    "end\n",
    "\n",
    "MyClass.new.method_one\n",
    "MyClass.new.method_one\n",
    "MyClass.new.method_two"
   ]
  },
  {
   "cell_type": "markdown",
   "id": "fb386372-15f8-4a6b-b160-b2f25ec27e1c",
   "metadata": {},
   "source": [
    "# Module#class_eval, aka module_eval\n",
    "\n",
    "`class_eval(string [, filename [, lineno]])` → obj\n",
    "\n",
    "Evaluates the string or block in the context of mod, except that when a block is given, constant/class variable lookup is not affected.\n",
    "\n",
    "** 用来给类里添加方法 **\n",
    "\n",
    "** module_eval 返回它`eval`的参数的结果 **\n",
    "\n",
    "The optional `filename` and `lineno` parameters set the text for error messages."
   ]
  },
  {
   "cell_type": "code",
   "execution_count": null,
   "id": "6d1ab70e-4171-4e4d-bd2f-1c96d428a73b",
   "metadata": {},
   "outputs": [],
   "source": [
    "class Thing\n",
    "end\n",
    "\n",
    "a = <<-HEREDOC\n",
    "\n",
    "def hello()\n",
    "  \"Hello there!\"\n",
    "end\n",
    "\n",
    "HEREDOC\n",
    "\n",
    "# Thing.module_eval(a)\n",
    "Thing.class_eval(a)\n",
    "\n",
    "puts Thing.new.hello()\n",
    "\n",
    "# Thing.module_eval(\"invalid code\", \"dummy\", 123)\n"
   ]
  },
  {
   "cell_type": "markdown",
   "id": "7cb7b991-bd9a-4ace-b1aa-3ee8807be20a",
   "metadata": {},
   "source": [
    "## `class_eval` 会修改self，以及当前类"
   ]
  },
  {
   "cell_type": "code",
   "execution_count": null,
   "id": "87d5b5aa-77d8-478f-ba20-311a8c8d10b5",
   "metadata": {},
   "outputs": [],
   "source": [
    "def add_method_to(klass)\n",
    "  klass.class_eval do\n",
    "    def hi; 'Hello'; end\n",
    "  end\n",
    "end\n",
    "\n",
    "add_method_to String\n",
    "\n",
    "\"abc\".hi"
   ]
  },
  {
   "cell_type": "markdown",
   "id": "400551ef-16d6-4814-86d4-0d4bc32af8cd",
   "metadata": {},
   "source": [
    "# Binding#eval\n",
    "\n",
    "> `eval(string [, filename [,lineno]])` → obj"
   ]
  },
  {
   "cell_type": "code",
   "execution_count": null,
   "id": "6e1f007c-6930-440d-8664-d05692a0058c",
   "metadata": {},
   "outputs": [],
   "source": [
    "def get_binding\n",
    "  a,b = 2,3\n",
    "  binding\n",
    "end\n",
    "\n",
    "eval(\"puts a +b\", get_binding)\n",
    "\n",
    "def get_binding(param)\n",
    "  binding\n",
    "end\n",
    "\n",
    "b = get_binding(\"hello\")\n",
    "b.eval(\"param\")   #=> \"hello\"\n"
   ]
  },
  {
   "cell_type": "markdown",
   "id": "add4d3e1-3a37-475f-b11a-1e2d1dfe868c",
   "metadata": {},
   "source": [
    "# 类实例变量: 类实例变量不同于类的实例的变量\n",
    "\n",
    "> 类实例变量是属于Class类对象的普通实例变量\n",
    "\n"
   ]
  },
  {
   "cell_type": "code",
   "execution_count": null,
   "id": "98780268-2881-4d6a-97a2-2ec03f595357",
   "metadata": {},
   "outputs": [],
   "source": [
    "\n",
    "class MyClass\n",
    "  @my_var = 1  // 作用域门不同，这里是class\n",
    "    \n",
    "  def self.read\n",
    "    @my_var\n",
    "  end\n",
    "\n",
    "  def write\n",
    "    @my_var = 2 // 作用域门不同，这里是def\n",
    "  end\n",
    "    \n",
    "  def read\n",
    "    @my_var\n",
    "  end\n",
    "end\n",
    "\n",
    "obj = MyClass.new\n",
    "obj.write\n",
    "p obj.read\n",
    "p MyClass.read"
   ]
  },
  {
   "cell_type": "markdown",
   "id": "f7430023-671f-4358-9ee9-f9cdd8a388fc",
   "metadata": {},
   "source": [
    "# 类变量 VS 类实例变量\n",
    "\n",
    "> 类变量可以被类的子类或类的实例所使用"
   ]
  },
  {
   "cell_type": "code",
   "execution_count": null,
   "id": "72739353-9478-462d-b136-36621408370a",
   "metadata": {},
   "outputs": [],
   "source": [
    "class C\n",
    "  @@v = 1\n",
    "    \n",
    "  def self.v\n",
    "    p @@v\n",
    "  end\n",
    "end\n",
    "\n",
    "class D < C\n",
    "  def m\n",
    "   p @@v\n",
    "  end\n",
    "end\n",
    "\n",
    "D.new.m\n",
    "D.v"
   ]
  },
  {
   "cell_type": "code",
   "execution_count": null,
   "id": "c1d55a1e-4395-47e9-8832-c8b678b3a0ba",
   "metadata": {},
   "outputs": [],
   "source": [
    "class C\n",
    "  @@v = 2\n",
    "end\n",
    "\n",
    "D.new.m\n",
    "D.v\n"
   ]
  },
  {
   "cell_type": "markdown",
   "id": "05613e34-4efc-4d61-99eb-ac51fd408204",
   "metadata": {},
   "source": [
    "# 避免使用类变量，尽量使用类实例变量"
   ]
  },
  {
   "cell_type": "markdown",
   "id": "b5874243-41a1-4733-af11-023be3223428",
   "metadata": {},
   "source": [
    "# 单件方法（Singleton Method）\n",
    "\n"
   ]
  },
  {
   "cell_type": "code",
   "execution_count": null,
   "id": "c8224ad8-042b-481f-aee5-e2c00f0bfb59",
   "metadata": {},
   "outputs": [],
   "source": [
    "str = \"just a regular string\"\n",
    "def str.title?\n",
    "  self.upcase == self\n",
    "end\n",
    "\n",
    "str.title?\n",
    "str.methods.grep(/title?/)\n",
    "str.singleton_methods\n",
    "# => false\n",
    "# => [\"title?\"]\n",
    "# => [\"title?\"]"
   ]
  },
  {
   "cell_type": "markdown",
   "id": "df38fdce-4248-4ee7-92f7-ce9bc368ef66",
   "metadata": {},
   "source": [
    "# 类方法的实质： 类的单件方法\n",
    "\n",
    "```ruby\n",
    "obj.a_method\n",
    "\n",
    "AClass.a_method\n",
    "\n",
    "def obj.a_singleton_method; end\n",
    "def MyClass.another_class_method; end\n",
    "```"
   ]
  },
  {
   "cell_type": "markdown",
   "id": "fa43c571-acb9-4e26-a994-b4926b0d68b5",
   "metadata": {},
   "source": [
    "# 类宏Class Macros"
   ]
  },
  {
   "cell_type": "code",
   "execution_count": null,
   "id": "80a86311-23d5-44c1-b95c-59c71cfe4183",
   "metadata": {},
   "outputs": [],
   "source": [
    "class MyClass\n",
    "  attr_accessor :my_attribute\n",
    "end\n",
    "\n",
    "class MyClass\n",
    "  def my_attribute=(value)\n",
    "    @my_attribute = value\n",
    "  end\n",
    "  \n",
    "  def my_attribute\n",
    "    @my_attribute\n",
    "  end\n",
    "end\n",
    "\n",
    "obj = MyClass.new\n",
    "obj.my_attribute = 'x'\n",
    "obj.my_attribute        # => \"x\"\n"
   ]
  },
  {
   "cell_type": "code",
   "execution_count": null,
   "id": "13b3e1f4-1853-42d0-a693-74f63620eab2",
   "metadata": {},
   "outputs": [],
   "source": [
    "class MyClass\n",
    "  attr_accessor :my_attribute\n",
    "end"
   ]
  },
  {
   "cell_type": "markdown",
   "id": "bb0c7540-3525-487b-b32a-15c91fd21ea8",
   "metadata": {},
   "source": [
    "## 类宏的应用"
   ]
  },
  {
   "cell_type": "code",
   "execution_count": null,
   "id": "b6eef854-0bbd-4e7c-bae6-cbf17fc034d9",
   "metadata": {},
   "outputs": [],
   "source": [
    "class Book\n",
    "  def title # ...\n",
    "  end\n",
    "\n",
    "  def subtitle # ...\n",
    "  end\n",
    "  \n",
    "  def lend_to(user)\n",
    "    puts \"Lending to #{user}\"\n",
    "    # ...\n",
    "  end\n",
    "\n",
    "  def self.deprecate(old_method, new_method)\n",
    "    define_method(old_method) do |*args, &block|\n",
    "      warn \"Warning: #{old_method}() is deprecated. Use #{new_method}().\"\n",
    "      send(new_method, *args, &block)\n",
    "    end\n",
    "  end\n",
    "  deprecate :GetTitle, :title\n",
    "  deprecate :LEND_TO_USER, :lend_to\n",
    "  deprecate :title2, :subtitle\n",
    "end\n",
    "\n",
    "b = Book.new\n",
    "b.LEND_TO_USER(\"Bill\")\n",
    "# >> Warning: LEND_TO_USER() is deprecated. Use lend_to().\n",
    "# >> Lending to Bill\n"
   ]
  },
  {
   "cell_type": "markdown",
   "id": "dd7806b9-0dbb-4873-806e-f2c566218959",
   "metadata": {},
   "source": [
    "# 单件类Eigenclass（本体类）\n",
    "\n",
    "> 当一个对象寻找它的类时，得到的是它的隐藏类（单件类）\n",
    "\n",
    "* 每个单件类只有一个实例\n",
    "* 单件类不能被继承\n",
    "* 单件类是一个对象的单件方法的存活之所\n"
   ]
  },
  {
   "cell_type": "code",
   "execution_count": null,
   "id": "06ed1ccd-184b-4b8b-9d0d-d42d0062ea9a",
   "metadata": {},
   "outputs": [],
   "source": [
    "obj = Object.new\n",
    "\n",
    "eigenclass = class << obj\n",
    "  self\n",
    "end\n",
    "\n",
    "eigenclass.class"
   ]
  },
  {
   "cell_type": "code",
   "execution_count": null,
   "id": "d7d2ef74-f2f0-4dd7-81b5-4c064ded6603",
   "metadata": {},
   "outputs": [],
   "source": [
    "# 返回对象的eigenclass\n",
    "\n",
    "class Object\n",
    "  def eigenclass\n",
    "    class << self\n",
    "      self\n",
    "    end\n",
    "  end\n",
    "end"
   ]
  },
  {
   "cell_type": "code",
   "execution_count": null,
   "id": "5a8ab977-a248-4e44-afef-1d3533822973",
   "metadata": {},
   "outputs": [],
   "source": [
    "class << obj\n",
    "  def a_single_m\n",
    "    'obj#a_singel_method()'\n",
    "  end\n",
    "end\n",
    "\n",
    "obj.a_single_m"
   ]
  },
  {
   "cell_type": "code",
   "execution_count": null,
   "id": "51472141-10e5-47d9-b3c8-e8ed254cc3f4",
   "metadata": {},
   "outputs": [],
   "source": [
    "class C\n",
    "  def a_method\n",
    "    'C#a_method()'\n",
    "  end\n",
    "end\n",
    "\n",
    "class D < C;end\n",
    "obj = D.new\n",
    "obj.a_method"
   ]
  },
  {
   "cell_type": "code",
   "execution_count": null,
   "id": "eabb0a7a-20d3-4520-ba0b-614e0f6dc620",
   "metadata": {},
   "outputs": [],
   "source": [
    "class << obj\n",
    "  def a_single_m\n",
    "    'obj#a_singel_method()'\n",
    "  end\n",
    "end\n",
    "\n",
    "obj.eigenclass.superclass  # should return D\n",
    "obj.eigenclass.ancestors"
   ]
  },
  {
   "cell_type": "markdown",
   "id": "06b7fe51-528a-4d25-9e96-c78e00cda38b",
   "metadata": {},
   "source": [
    "# 方法查找\n",
    "\n",
    "<center>\n",
    "<img src=\"assets/eigenclass.png\" width=\"500\" height=\"100%\" align=\"center\"/>   \n",
    "</center>"
   ]
  },
  {
   "cell_type": "code",
   "execution_count": null,
   "id": "dd390e86-36e8-4b34-868b-d5be08cdab35",
   "metadata": {},
   "outputs": [],
   "source": [
    "class C\n",
    "  class << self\n",
    "    def a_class_method\n",
    "      'C.a_class_method()'\n",
    "    end\n",
    "  end\n",
    "end\n",
    "\n",
    "# C.eigenclass\n",
    "# D.eigenclass\n",
    "# D.eigenclass.superclass\n",
    "# C.eigenclass.superclass\n",
    "# => #<Class:C>\n",
    "# => #<Class:D>\n",
    "# => #<Class:C>\n",
    "# => #<Class:Object>\n",
    "C.ancestors"
   ]
  },
  {
   "cell_type": "markdown",
   "id": "091af1e2-3d34-4949-bfc3-0039ad34dd51",
   "metadata": {},
   "source": [
    "# eigenclass 的超类就是超类的eigenclass\n",
    "\n",
    "<center>\n",
    "<img src=\"assets/eigenclass2.png\" width=\"500px\" height=\"100%\" align=\"center\"/>   \n",
    "</center>"
   ]
  },
  {
   "cell_type": "code",
   "execution_count": null,
   "id": "38b10c45-48bc-42d6-a562-d2941def0ce6",
   "metadata": {},
   "outputs": [],
   "source": [
    "class << \"abc\"\n",
    "  class << self\n",
    "    p self.inspect # => #<Class:#<Class:#<String:0x00007fe9de100e30>>>\n",
    "  end\n",
    "end"
   ]
  },
  {
   "cell_type": "markdown",
   "id": "959949cb-4731-43e3-85e1-effa8ace75ea",
   "metadata": {},
   "source": [
    "<center>                      \n",
    "<img src=\"assets/ruby.jpg\" width=\"100%\" height=\"100%\" align=\"center\"/>    \n",
    "\n",
    "</center>      \n",
    "<p style=\"margin-top: -300px; margin-left: 450px;font-size: 82px; font-height: bold;color:white;\n",
    "          \"> 小结\n",
    "\n",
    "</p>"
   ]
  },
  {
   "cell_type": "markdown",
   "id": "e9133fcb-c867-46a6-ad64-2fa9315c3149",
   "metadata": {},
   "source": [
    "#### 只有一种对象--普通对象或模块\n",
    "#### 只有一种模块--普通模块、类、eigenclass或代理类\n",
    "#### 只有一种方法， 存在于类或模块中\n",
    "#### 每个对象都有自己真正的类---普通类或eigenclass\n",
    "#### 除了BasicObject， 每个类有且只有一个超类\n",
    "#### 一个对象的eigenclass的超类是这个对象的超类；一个类的eigenclass的超类是这个类的超类的eigenclass\n",
    "#### 当调用一个方法时，Ruby先向右迈入接受者真正的类，然后向上进入祖先链"
   ]
  },
  {
   "cell_type": "markdown",
   "id": "5be725c9-cb31-42a8-8652-4c9dd3ced998",
   "metadata": {},
   "source": [
    "# 给类创建属性"
   ]
  },
  {
   "cell_type": "code",
   "execution_count": null,
   "id": "c25ddd0f-5c0a-429b-9402-24da6ffbfd7d",
   "metadata": {},
   "outputs": [],
   "source": [
    "class MyClass\n",
    "  attr_accessor :a\n",
    "end\n",
    "obj = MyClass.new\n",
    "obj.a = 2\n",
    "obj.a         # => 2"
   ]
  },
  {
   "cell_type": "code",
   "execution_count": null,
   "id": "940f79e3-4572-474c-8506-624acd632396",
   "metadata": {},
   "outputs": [],
   "source": [
    " # 在notebook 里不工作，请在irb里面测试\n",
    "\n",
    "class MyClass; end\n",
    "\n",
    "class Class # XX 所有类都增加属性 :b\n",
    "  attr_accessor :b\n",
    "end\n",
    "\n",
    "MyClass.b = 42\n",
    "MyClass.b      # => 42"
   ]
  },
  {
   "cell_type": "code",
   "execution_count": null,
   "id": "601c5594-a24c-4855-a5b3-661145d7c683",
   "metadata": {},
   "outputs": [],
   "source": [
    "class MyClass\n",
    "  class << self\n",
    "    attr_accessor :c\n",
    "  end\n",
    "end\n",
    "\n",
    "MyClass.c = 'It works!'\n",
    "MyClass.c # => \"It works!\""
   ]
  },
  {
   "cell_type": "markdown",
   "id": "c931160b-d4f9-4ee8-8737-1df95403c590",
   "metadata": {},
   "source": [
    "<center>                      \n",
    "<img src=\"assets/ruby.jpg\" width=\"100%\" height=\"100%\" align=\"center\"/>    \n",
    "\n",
    "</center>      \n",
    "<p style=\"margin-top: -300px; margin-left: 450px;font-size: 82px; font-height: bold;color:white;\n",
    "          \"> 别名 Alias\n",
    "\n",
    "</p>"
   ]
  },
  {
   "cell_type": "code",
   "execution_count": null,
   "id": "2a4d17d7-de89-4b1e-923c-d9d8e7bf33a6",
   "metadata": {},
   "outputs": [],
   "source": [
    "# 别名仅仅对实例方法有效\n",
    "\n",
    "\n",
    "class MyClass\n",
    "  def my_method\n",
    "    'my_method()'\n",
    "  end\n",
    "\n",
    "  alias :m :my_method  # 新名称 旧名称\n",
    "  alias :not_exist :not_exist\n",
    "end\n",
    "\n",
    "obj = MyClass.new\n",
    "obj.my_method   # => \"my_method()\"\n",
    "obj.m           # => \"my_method()\"\n",
    "# obj.not_exist"
   ]
  },
  {
   "cell_type": "code",
   "execution_count": null,
   "id": "609eb2a8-d9be-4a8f-979b-775d83cee1fb",
   "metadata": {},
   "outputs": [],
   "source": [
    "class MyClass\n",
    "  def self.my_method\n",
    "    'my_method()'\n",
    "  end\n",
    "\n",
    "  alias :m :my_method # not working\n",
    "end\n",
    "\n",
    "# MyClass.m # => NoMethodError: undefined method` m'"
   ]
  },
  {
   "cell_type": "code",
   "execution_count": null,
   "id": "d40bb3ae-c7d0-49d1-964d-cc9e229e2013",
   "metadata": {},
   "outputs": [],
   "source": [
    "# 在Module里定义别名\n",
    "\n",
    "module MyModule\n",
    "  def MyModule.func\n",
    "    puts 'Hello'\n",
    "  end\n",
    "\n",
    "  class << self # or, class << MyModule\n",
    "    alias funcAlias func\n",
    "  end\n",
    "end\n",
    "\n",
    "MyModule.funcAlias"
   ]
  },
  {
   "cell_type": "markdown",
   "id": "f5867562-0e2b-4cf8-8aea-586ac554c0fb",
   "metadata": {},
   "source": [
    "# 环绕别名 Around Alias\n",
    "\n",
    "* 给方法定义一个别名\n",
    "\n",
    "* 重新定义这个方法\n",
    "\n",
    "* 在新的方法中调用老方法"
   ]
  },
  {
   "cell_type": "code",
   "execution_count": null,
   "id": "3137618c-cc53-429f-9778-513617f03630",
   "metadata": {},
   "outputs": [],
   "source": [
    "class String\n",
    "  alias :real_length :length\n",
    "    \n",
    "  def length\n",
    "    real_length > 5 ? 'long' : 'short'\n",
    "  end\n",
    "end\n",
    "\n",
    "\"War and Peace\".length # => \"long\" ， 调用的是新方法\n",
    "\"War and Peace\".real_length # => 13， 调用的是老方法"
   ]
  },
  {
   "cell_type": "code",
   "execution_count": null,
   "id": "f0fb348e-9b9f-495d-92b1-00bddd4f1d56",
   "metadata": {},
   "outputs": [],
   "source": [
    "module Kernel\n",
    "\n",
    "  ##\n",
    "  # The Kernel#require from before RubyGems was loaded.\n",
    "\n",
    "  alias gem_original_require require  # Step 1： 给方法定义一个别名\n",
    "\n",
    "\n",
    "  def require(path)                   # Step 2： 重新定义这个方法\n",
    "    gem_original_require path         # Step 3：： 在新的方法中调用老方法\n",
    "  rescue LoadError => load_error\n",
    "    if load_error.message =~ /#{Regexp.escape path}\\z/ and\n",
    "       spec = Gem.searcher.find(path) then\n",
    "      Gem.activate(spec.name, \"= #{spec.version}\")\n",
    "      gem_original_require path\n",
    "    else\n",
    "      raise load_error\n",
    "    end\n",
    "  end\n",
    "\n",
    "  private :require\n",
    "  private :gem_original_require\n",
    "\n",
    "end\n"
   ]
  },
  {
   "cell_type": "markdown",
   "id": "bd2a0aa3-e4bd-402e-8bd0-9ff883a42a2d",
   "metadata": {},
   "source": [
    "# 环绕别名的问题\n",
    "\n",
    "* 猴子补丁\n",
    "\n",
    "* 永远不要把一个环绕别名加载两次~"
   ]
  },
  {
   "cell_type": "markdown",
   "id": "3f81863a-3855-4469-8659-43381835ac4b",
   "metadata": {},
   "source": [
    "# In Rails"
   ]
  },
  {
   "cell_type": "code",
   "execution_count": null,
   "id": "844fdec7-575c-4d91-a37f-ab97b9bc5c4d",
   "metadata": {},
   "outputs": [],
   "source": [
    "# Converts Date to a Time (or DateTime if necessary) with the time portion set to the beginning of the day (0:00)\n",
    "  # and then adds the specified number of seconds\n",
    "  def since(seconds)\n",
    "    in_time_zone.since(seconds)\n",
    "  end\n",
    "  alias :in :since\n",
    "\n",
    "  # Converts Date to a Time (or DateTime if necessary) with the time portion set to the beginning of the day (0:00)\n",
    "  def beginning_of_day\n",
    "    in_time_zone\n",
    "  end\n",
    "  alias :midnight :beginning_of_day\n",
    "  alias :at_midnight :beginning_of_day\n",
    "  alias :at_beginning_of_day :beginning_of_day\n",
    "\n",
    "  # Converts Date to a Time (or DateTime if necessary) with the time portion set to the middle of the day (12:00)\n",
    "  def middle_of_day\n",
    "    in_time_zone.middle_of_day\n",
    "  end\n",
    "  alias :midday :middle_of_day\n",
    "  alias :noon :middle_of_day\n",
    "  alias :at_midday :middle_of_day\n",
    "  alias :at_noon :middle_of_day\n",
    "  alias :at_middle_of_day :middle_of_day\n"
   ]
  },
  {
   "cell_type": "markdown",
   "id": "b69fc79f-d08f-4b45-bc10-00ce1b1ecbc2",
   "metadata": {},
   "source": [
    "# Kerne#eval"
   ]
  },
  {
   "cell_type": "code",
   "execution_count": null,
   "id": "8e2f0c1a-8fb4-4439-8866-4518e670b2aa",
   "metadata": {},
   "outputs": [],
   "source": [
    "array = [10, 20]\n",
    "element = 30\n",
    "eval(\"array << element\") # => [10, 20, 30]"
   ]
  },
  {
   "cell_type": "code",
   "execution_count": null,
   "id": "bab1215e-3d5f-45cf-b2a4-f5179c54468e",
   "metadata": {},
   "outputs": [],
   "source": [
    "load 'deploy'\n",
    "\n",
    "map = { \"update\"   => \"deploy:update\",\n",
    "        \"restart\"  => \"deploy:restart\",\n",
    "        \"cleanup\"  => \"deploy:cleanup\",\n",
    "        # ...\n",
    "        \"diff_from_last_deploy\"  => \"deploy:pending:diff\",\n",
    "        \"update_code\"            => \"deploy:update_code\",\n",
    "        \"symlink\"                => \"deploy:symlink\",\n",
    "        \"rollback\"               => \"deploy:rollback\",\n",
    "        \"disable_web\"            => \"deploy:web:disable\",\n",
    "        \"enable_web\"             => \"deploy:web:enable\",\n",
    "        \"cold_deploy\"            => \"deploy:cold\",\n",
    "        \"deploy_with_migrations\" => \"deploy:migrations\"\n",
    "}\n",
    " \n",
    "map.each do |old, new|\n",
    "  desc \"DEPRECATED: See #{new}.\"\n",
    "  # ...\n",
    "  eval \"task(#{old.inspect}) do\n",
    "    warn \\\"[DEPRECATED] `#{old}' is deprecated. Use `#{new}' instead.\\\"\n",
    "    find_and_execute_task(#{new.inspect})\n",
    "  end\"\n",
    "end\n",
    "\n",
    "desc \"DEPRECATED: See deploy:start.\"\n",
    "task :spinner do\n",
    "  warn \"[DEPRECATED] `spinner' is deprecated. Use `deploy:start' instead.\"\n",
    "  set :runner, fetch(:spinner_user, \"app\")\n",
    "  deploy.start\n",
    "end\n"
   ]
  },
  {
   "cell_type": "markdown",
   "id": "9e9e46ba-e71b-4790-ab4f-be082c57d20a",
   "metadata": {},
   "source": [
    "# Kernel#binding\n"
   ]
  },
  {
   "cell_type": "code",
   "execution_count": null,
   "id": "300c0a03-3706-4ee4-8506-084408fb0ebf",
   "metadata": {},
   "outputs": [],
   "source": [
    "class MyClass\n",
    "  def my_method\n",
    "    a, b = 2, 3\n",
    "    binding\n",
    "  end\n",
    "end\n",
    "\n",
    "c = MyClass.new.my_method\n",
    "# eval(\"puts a + b\")\n",
    "eval(\"raise\", MyClass.new.my_method, \"kernel#binding\", 3)\n",
    "\n"
   ]
  },
  {
   "cell_type": "markdown",
   "id": "8da5f343-d7db-48d6-8727-2740114a023b",
   "metadata": {},
   "source": [
    "# TOPLEVEL_BINDING"
   ]
  },
  {
   "cell_type": "code",
   "execution_count": null,
   "id": "b3c5c9b0-0ffc-456f-ad41-5af097b1f915",
   "metadata": {},
   "outputs": [],
   "source": [
    "class AnotherClass\n",
    "  def my_method\n",
    "    eval \"self\", TOPLEVEL_BINDING\n",
    "  end\n",
    "end\n",
    "\n",
    "AnotherClass.new.my_method"
   ]
  },
  {
   "cell_type": "markdown",
   "id": "63159fd8-b6a4-4640-bd6c-912281c5c276",
   "metadata": {},
   "source": [
    "# $SAFE\n",
    "\n",
    "\n",
    "<center>\n",
    "<img src=\"assets/safe.png\" width=\"500\" height=\"100%\" align=\"center\"/>   \n",
    "</center>"
   ]
  },
  {
   "cell_type": "markdown",
   "id": "e582dc8f-23b4-4a2d-b106-2e289e796237",
   "metadata": {},
   "source": [
    "# 元编程 in Rails"
   ]
  },
  {
   "cell_type": "code",
   "execution_count": null,
   "id": "0e97cd26-99f1-4c04-97ea-f72fe60afc1c",
   "metadata": {},
   "outputs": [],
   "source": [
    "class Duck < ActiveRecord::Base\n",
    "  validates_length_of :name, :maximum => 6\n",
    "end"
   ]
  },
  {
   "cell_type": "markdown",
   "id": "51a3fc4d-e7b4-41be-a207-a6317eb03f34",
   "metadata": {},
   "source": [
    "# Kernel#autoload"
   ]
  },
  {
   "cell_type": "code",
   "execution_count": null,
   "id": "830c7643-e6a2-48f3-a349-398333bea04a",
   "metadata": {},
   "outputs": [],
   "source": [
    "module ActiveRecord\n",
    "  autoload :Base, 'active_record/base'\n",
    "  autoload :Batches, 'active_record/batches'\n",
    "  autoload :Calculations, 'active_record/calculations'\n",
    "  autoload :Callbacks, 'active_record/callbacks'\n",
    "  # ...\n",
    "  autoload :Timestamp, 'active_record/timestamp'\n",
    "  autoload :Transactions, 'active_record/transactions'\n",
    "  autoload :Validations, 'active_record/validations'\n",
    "  # ...\n",
    "end\n"
   ]
  },
  {
   "cell_type": "code",
   "execution_count": null,
   "id": "e5a249a0-e81c-403f-ae63-3e42baae6459",
   "metadata": {},
   "outputs": [],
   "source": [
    "# lib/active_record/base.rb\n",
    "\n",
    "module ActiveRecord\n",
    "  class Base\n",
    "    class << self # Class methods def find(*args) # ...\n",
    "      def first(*args) # ...\n",
    "      def last(*args) # ...\n",
    "      # ...\n",
    "    end\n",
    "        \n",
    "    public\n",
    "     def id # ...\n",
    "     def save # ...\n",
    "     def save! # ...\n",
    "     def delete # ... # ...\n",
    "  end\n",
    "end"
   ]
  },
  {
   "cell_type": "code",
   "execution_count": null,
   "id": "4dfef0e6-1b09-4991-a207-899a12af2700",
   "metadata": {},
   "outputs": [],
   "source": [
    "module ActiveRecord\n",
    "  module Validations\n",
    "    def self.included(base)\n",
    "      base.extend ClassMethods\n",
    "      base.class_eval do\n",
    "        alias_method_chain :save, :validation\n",
    "        alias_method_chain :save!, :validation\n",
    "      end\n",
    "      base.send :include, ActiveSupport::Callbacks\n",
    "   # ...\n",
    "   end\n",
    "      \n",
    "   module ClassMethods\n",
    "     def validates_each(*attrs) # ...\n",
    "     def validates_confirmation_of(*attr_names) # ... def validates_length_of(*attrs) # ...\n",
    "     # ...\n",
    "   end\n",
    "   \n",
    "   def save_with_validation(perform_validation = true) # ... def save_with_validation! # ...\n",
    "   def valid? # ...\n",
    "   # ...\n",
    "  end\n",
    "end"
   ]
  },
  {
   "cell_type": "markdown",
   "id": "2ccda47a-295a-4003-9f1f-b359d83d6ce1",
   "metadata": {},
   "source": [
    "# alias_method_chain()"
   ]
  },
  {
   "cell_type": "code",
   "execution_count": null,
   "id": "36fb5959-1363-4ecb-aa9e-a08df5effd9e",
   "metadata": {},
   "outputs": [],
   "source": [
    "class MyClass\n",
    "  def greet\n",
    "    puts \"Hello!\"\n",
    "  end\n",
    "end\n",
    "\n",
    "MyClass.new.greet #⇒ Hello!"
   ]
  },
  {
   "cell_type": "code",
   "execution_count": null,
   "id": "5db9c825-9fa7-44d4-b768-84fea9e681e1",
   "metadata": {},
   "outputs": [],
   "source": [
    "class MyClass\n",
    "  def greet_with_log\n",
    "    puts \"Calling method...\"\n",
    "    greet_without_log\n",
    "    puts \"...Method called\"\n",
    "  end\n",
    "  \n",
    "  alias_method :greet_without_log, :greet # 新方法名，旧方法名\n",
    "  alias_method :greet, :greet_with_log  # 新方法名，旧方法名\n",
    "end\n",
    "\n",
    "MyClass.new.greet\n",
    "\n",
    "MyClass.new.greet_without_log\n"
   ]
  },
  {
   "cell_type": "code",
   "execution_count": null,
   "id": "1a4ca23f-8e2c-41a8-821b-e7cf62982429",
   "metadata": {},
   "outputs": [],
   "source": [
    "# lib/active_support/core_ext/module/aliasing.rb\n",
    "module ActiveSupport\n",
    "  module CoreExtensions\n",
    "    module Module\n",
    "    # Encapsulates the common pattern of:\n",
    "    #\n",
    "    #   alias_method :foo_without_feature, :foo\n",
    "    #   alias_method :foo, :foo_with_feature\n",
    "    #\n",
    "    # With this, you simply do:\n",
    "    #\n",
    "    #   alias_method_chain :foo, :feature\n",
    "    #\n",
    "    # And both aliases are set up for you.\n",
    "    #\n",
    "    # Query and bang methods (foo?, foo!) keep the same punctuation:\n",
    "    #\n",
    "    #   alias_method_chain :foo?, :feature\n",
    "    #\n",
    "    # is equivalent to\n",
    "    #\n",
    "    #   alias_method :foo_without_feature?, :foo?\n",
    "    #   alias_method :foo?, :foo_with_feature?\n",
    "    #\n",
    "    # so you can safely chain foo, foo?, and foo! with the same feature.\n",
    "    \n",
    "    def alias_method_chain(target, feature)\n",
    "    # Strip out punctuation on predicates or bang methods since\n",
    "    # e.g. target?_without_feature is not a valid method name.\n",
    "      aliased_target, punctuation = target.to_s.sub(/([?!=])$/, ''), $1\n",
    "      yield(aliased_target, punctuation) if block_given?\n",
    "      with_method, without_method =\n",
    "        \"#{aliased_target}_with_#{feature}#{punctuation}\",\n",
    "        \"#{aliased_target}_without_#{feature}#{punctuation}\"\n",
    "      alias_method without_method, target\n",
    "      alias_method target, with_method\n",
    "\n",
    "      case\n",
    "        when public_method_defined?(without_method)\n",
    "          public target\n",
    "        when protected_method_defined?(without_method)\n",
    "          protected target\n",
    "        when private_method_defined?(without_method)\n",
    "          private target\n",
    "      end\n",
    "    end\n",
    "    # Allows you to make aliases for attributes, which includes\n",
    "    # getter, setter, and query methods.\n",
    "    #\n",
    "    # Example:\n",
    "    #\n",
    "    #   class Content < ActiveRecord::Base\n",
    "    #     # has a title attribute\n",
    "    #   end\n",
    "    #\n",
    "    #   class Email < Content\n",
    "    #     alias_attribute :subject, :title\n",
    "    #   end\n",
    "    #\n",
    "    #   e = Email.find(1)\n",
    "    #   e.title    # => \"Superstars\"\n",
    "    #   e.subject  # => \"Superstars\"\n",
    "    #   e.subject? # => true\n",
    "    #   e.subject = \"Megastars\"\n",
    "    #   e.title    # => \"Megastars\"\n",
    "    def alias_attribute(new_name, old_name)\n",
    "      module_eval <<-STR, __FILE__, __LINE__+1\n",
    "        def #{new_name}; self.#{old_name}; end          # def subject; self.title; end\n",
    "        def #{new_name}?; self.#{old_name}?; end        # def subject?; self.title?; end\n",
    "        def #{new_name}=(v); self.#{old_name} = v; end  # def subject=(v); self.title = v; end\n",
    "      STR\n",
    "    end\n",
    "  end\n",
    "end\n",
    "end\n"
   ]
  }
 ],
 "metadata": {
  "kernelspec": {
   "display_name": "Ruby 2.7.4",
   "language": "ruby",
   "name": "ruby"
  },
  "language_info": {
   "file_extension": ".rb",
   "mimetype": "application/x-ruby",
   "name": "ruby",
   "version": "2.7.4"
  }
 },
 "nbformat": 4,
 "nbformat_minor": 5
}

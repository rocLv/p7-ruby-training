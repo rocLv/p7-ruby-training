{
 "cells": [
  {
   "cell_type": "markdown",
   "id": "672ee4b4-333d-4238-8cb8-a9e3582fa8f8",
   "metadata": {},
   "source": [
    "# 重新认识类"
   ]
  },
  {
   "cell_type": "code",
   "execution_count": 4,
   "id": "d6501a04-6a48-42e6-ab65-c66a9fba5146",
   "metadata": {},
   "outputs": [
    {
     "name": "stdout",
     "output_type": "stream",
     "text": [
      "\"created class C\"\n",
      "\"created class C\"\n",
      "\"created class C\"\n"
     ]
    },
    {
     "data": {
      "text/plain": [
       "3"
      ]
     },
     "execution_count": 4,
     "metadata": {},
     "output_type": "execute_result"
    }
   ],
   "source": [
    "3.times do \n",
    "  class C\n",
    "    p \"created class C\"\n",
    "  end\n",
    "end"
   ]
  },
  {
   "cell_type": "markdown",
   "id": "625b16a1-4ff6-44ad-a98a-589dec89e66a",
   "metadata": {},
   "source": [
    "# 类变量和类实例变量的区别\n",
    "\n",
    "* 类变量： 类和它的子类共享该值\n",
    "* 类实例变量： 类和它的子类各自拥有独立的值"
   ]
  },
  {
   "cell_type": "code",
   "execution_count": 3,
   "id": "ae4d607c-2789-456c-900b-3b65978592dd",
   "metadata": {
    "jupyter": {
     "source_hidden": true
    },
    "tags": []
   },
   "outputs": [
    {
     "name": "stdout",
     "output_type": "stream",
     "text": [
      "\"Male\"\n",
      "\"Female\"\n"
     ]
    },
    {
     "data": {
      "text/plain": [
       "\"Female\""
      ]
     },
     "execution_count": 3,
     "metadata": {},
     "output_type": "execute_result"
    }
   ],
   "source": [
    "class Person\n",
    "    @gental = 'Male'\n",
    "    def self.gental\n",
    "       @gental\n",
    "    end\n",
    "end\n",
    "\n",
    "class Dave < Person\n",
    "    @gental = \"Female\"\n",
    "end\n",
    "\n",
    "p Person.gental\n",
    "p Dave.gental"
   ]
  },
  {
   "cell_type": "code",
   "execution_count": 9,
   "id": "1f9d9217-4044-4e12-a309-775c9aabcd2a",
   "metadata": {},
   "outputs": [
    {
     "name": "stdout",
     "output_type": "stream",
     "text": [
      "\"Male\"\n",
      "\"Female\"\n"
     ]
    },
    {
     "data": {
      "text/plain": [
       "\"Female\""
      ]
     },
     "execution_count": 9,
     "metadata": {},
     "output_type": "execute_result"
    }
   ],
   "source": [
    "class Person\n",
    "  @gental = 'Male'\n",
    "  def self.gental\n",
    "    @gental\n",
    "  end\n",
    "end\n",
    "\n",
    "class Dave < Person\n",
    "  @gental = \"Female\"\n",
    "end\n",
    "\n",
    "p Person.gental  #类变量被修改\n",
    "p Dave.gental"
   ]
  },
  {
   "cell_type": "markdown",
   "id": "bc1209c0-6773-4acb-9347-147332cefe12",
   "metadata": {},
   "source": [
    "## Class Hook\n"
   ]
  },
  {
   "cell_type": "code",
   "execution_count": 12,
   "id": "eb9c2c24-5d06-428e-9c71-7e5c516755ce",
   "metadata": {},
   "outputs": [
    {
     "data": {
      "text/plain": [
       "#<#<Class:0x00007fd3d1376bd8>::Tenant:0x00007fd3d09a2738>"
      ]
     },
     "execution_count": 12,
     "metadata": {},
     "output_type": "execute_result"
    }
   ],
   "source": [
    "class User\n",
    "  def self.inherited(child_class)\n",
    "    puts \"Hello new #{child_class}\"\n",
    "  end\n",
    "end\n",
    "\n",
    "class Tenant < User\n",
    "end\n",
    "\n",
    "Tenant.new"
   ]
  },
  {
   "cell_type": "markdown",
   "id": "c4c9c9c4-37cb-4f7f-9879-556c399f8bd5",
   "metadata": {},
   "source": [
    "# Module\n",
    "\n",
    "1. 命名空间\n",
    "2. Mixin"
   ]
  },
  {
   "cell_type": "code",
   "execution_count": 6,
   "id": "32bb38d3-cf3f-4ef9-a8dd-843154cb4f34",
   "metadata": {},
   "outputs": [
    {
     "name": "stderr",
     "output_type": "stream",
     "text": [
      "(irb):8: warning: ... at EOL, should be parenthesized?\n"
     ]
    },
    {
     "ename": "NameError",
     "evalue": "uninitialized constant #<Class:0x00007f980929e660>::Rails::ActiveSupport",
     "output_type": "error",
     "traceback": [
      "\u001b[31mNameError\u001b[0m: uninitialized constant #<Class:0x00007f980929e660>::Rails::ActiveSupport",
      "(irb):1:in `<module:Rails>'",
      "(irb):in `irb_binding'"
     ]
    }
   ],
   "source": [
    "module Rails\n",
    "  extend ActiveSupport::Autoload\n",
    "  extend ActiveSupport::Benchmarkable\n",
    "\n",
    "  autoload :WelcomeController\n",
    "\n",
    "  class << self\n",
    "    @application = @app_class = nil\n",
    "    ...\n",
    "          \n",
    "    def autoloaders\n",
    "      Autoloaders\n",
    "    end\n",
    "  end\n",
    "end"
   ]
  },
  {
   "cell_type": "markdown",
   "id": "822e1746-dca3-4288-8fe7-1ca98cfd9643",
   "metadata": {},
   "source": [
    "## 最早include的最晚查询\n",
    "\n"
   ]
  },
  {
   "cell_type": "code",
   "execution_count": 17,
   "id": "0cbf8b92-dda4-42bc-ae1c-57c9ebb47d31",
   "metadata": {},
   "outputs": [
    {
     "name": "stdout",
     "output_type": "stream",
     "text": [
      "[#<Class:0x00007fd3d1376bd8>::Service, #<Class:0x00007fd3d1376bd8>::Debug, #<Class:0x00007fd3d1376bd8>::Logging, Object, JSON::Ext::Generator::GeneratorMethods::Object, Kernel, BasicObject]\n",
      "\"log from debug\"\n"
     ]
    },
    {
     "data": {
      "text/plain": [
       "\"log from debug\""
      ]
     },
     "execution_count": 17,
     "metadata": {},
     "output_type": "execute_result"
    }
   ],
   "source": [
    "module Logging\n",
    "  def log(message)\n",
    "    p \"log from Logging\"\n",
    "  end\n",
    "end\n",
    "\n",
    "module Debug\n",
    "  def log(message)\n",
    "    # debug output\n",
    "    p \"log from debug\"\n",
    "  end\n",
    "end\n",
    "\n",
    "class Service\n",
    "  prepend Logging\n",
    "  include Debug\n",
    "end\n",
    "\n",
    "p Service.ancestors # [Service, Debug, Logging, Object, ...]\n",
    "Service.new.log(\"look\")\n",
    "# Service.log(\"log\")"
   ]
  },
  {
   "cell_type": "markdown",
   "id": "f32582c8-61c2-4afd-ad5d-6d5b89f625f1",
   "metadata": {},
   "source": [
    "# include, extend, pretend"
   ]
  },
  {
   "cell_type": "code",
   "execution_count": 8,
   "id": "cbc6d99f-6569-40a9-908e-a575c8c80df9",
   "metadata": {},
   "outputs": [
    {
     "name": "stdout",
     "output_type": "stream",
     "text": [
      "[Class, Module, Object, JSON::Ext::Generator::GeneratorMethods::Object, Kernel, BasicObject]\n"
     ]
    },
    {
     "data": {
      "text/plain": [
       "[Class, Module, Object, JSON::Ext::Generator::GeneratorMethods::Object, Kernel, BasicObject]"
      ]
     },
     "execution_count": 8,
     "metadata": {},
     "output_type": "execute_result"
    }
   ],
   "source": [
    "module ServiceDebugger\n",
    "  def run(args)\n",
    "    puts \"Service run start: #{args.inspect}\"\n",
    "    result = super\n",
    "    puts \"Service run finished: #{result}\" \n",
    "  end\n",
    "end\n",
    "\n",
    "class Service\n",
    "  include ServiceDebugger\n",
    "  \n",
    "  # perform some real work\n",
    "  def run(args)\n",
    "    args.each do |arg|\n",
    "      sleep 1\n",
    "    end\n",
    "    {result: \"ok\"}\n",
    "  end\n",
    "end\n",
    "\n",
    "p Service.class.ancestors"
   ]
  },
  {
   "cell_type": "code",
   "execution_count": 9,
   "id": "a4bd76cd-e0b5-4d95-9fbb-c781d76d5e5f",
   "metadata": {},
   "outputs": [
    {
     "name": "stdout",
     "output_type": "stream",
     "text": [
      "The #<Class:0x00007f9bc23e70f0>::MediumPost entity now accepts comments !\n"
     ]
    },
    {
     "data": {
      "text/plain": [
       "#<Class:0x00007f9bc23e70f0>::MediumPost"
      ]
     },
     "execution_count": 9,
     "metadata": {},
     "output_type": "execute_result"
    }
   ],
   "source": [
    "module Commentable\n",
    "  def self.included(commentable_entity)\n",
    "    puts \"The #{commentable_entity} entity now accepts comments !\"\n",
    "  end\n",
    "end\n",
    "\n",
    "class MediumPost\n",
    "  include Commentable\n",
    "end"
   ]
  },
  {
   "cell_type": "markdown",
   "id": "e2a88196-b9b1-4c93-8498-45a7cd846575",
   "metadata": {},
   "source": [
    "# 3.hours.from_now_on"
   ]
  },
  {
   "cell_type": "code",
   "execution_count": 2,
   "id": "3026d021-1159-4aef-8340-b331ec47a8da",
   "metadata": {},
   "outputs": [
    {
     "ename": "NoMethodError",
     "evalue": "undefined method `hours' for 3:Integer",
     "output_type": "error",
     "traceback": [
      "\u001b[31mNoMethodError\u001b[0m: undefined method `hours' for 3:Integer",
      "(irb):6:in `irb_binding'"
     ]
    }
   ],
   "source": [
    "class Integer\n",
    "  def hours\n",
    "    self * 60 * 60\n",
    "  end\n",
    "end\n",
    "\n",
    "3.hours # not work in this lab"
   ]
  },
  {
   "cell_type": "code",
   "execution_count": 3,
   "id": "3ebe8169-2da3-47ab-a7b5-4d1c5d835101",
   "metadata": {},
   "outputs": [
    {
     "ename": "NoMethodError",
     "evalue": "undefined method `hours' for 3:Integer",
     "output_type": "error",
     "traceback": [
      "\u001b[31mNoMethodError\u001b[0m: undefined method `hours' for 3:Integer",
      "(irb):10:in `irb_binding'"
     ]
    }
   ],
   "source": [
    "class Integer\n",
    "  def hours\n",
    "    self * 60 * 60\n",
    "  end\n",
    "    \n",
    "  def from_now_on\n",
    "    Time.now + self\n",
    "  end\n",
    "end\n",
    "\n",
    "3.hours.from_now_on # not work in this lab"
   ]
  },
  {
   "cell_type": "markdown",
   "id": "0eaa54c5-1432-4b8c-8882-466d5bee3b53",
   "metadata": {},
   "source": [
    "# 常量\n",
    "\n",
    "> 任何以大写字母开通的引用（包括类名、模块名）\n",
    "\n",
    "* 常量可以被修改（不建议）\n",
    "* 作用域和变量不同\n",
    "* 常量的作用域更像是文件系统一样 "
   ]
  },
  {
   "cell_type": "code",
   "execution_count": 6,
   "id": "fabfa186-5fcb-43cc-bf19-b6c4646261a6",
   "metadata": {},
   "outputs": [
    {
     "name": "stderr",
     "output_type": "stream",
     "text": [
      "(irb):1: warning: already initialized constant #<Class:0x00007fd3d1376bd8>::MyModule::CONSTANT\n",
      "(irb):1: warning: previous definition of CONSTANT was here\n",
      "(irb):3: warning: already initialized constant #<Class:0x00007fd3d1376bd8>::MyModule::MyClass::CONSTANT\n",
      "(irb):3: warning: previous definition of CONSTANT was here\n"
     ]
    },
    {
     "name": "stdout",
     "output_type": "stream",
     "text": [
      "\"MODULE CONSTANT\"\n",
      "\"MODULE::CLASS CONSTANT\"\n"
     ]
    },
    {
     "data": {
      "text/plain": [
       "\"MODULE::CLASS CONSTANT\""
      ]
     },
     "execution_count": 6,
     "metadata": {},
     "output_type": "execute_result"
    }
   ],
   "source": [
    "module MyModule\n",
    "  CONSTANT = \"MODULE CONSTANT\"\n",
    "  class MyClass\n",
    "    CONSTANT = \"MODULE::CLASS CONSTANT\"\n",
    "  end\n",
    "end\n",
    "\n",
    "## 在这里运行与ruby实际行为不一致\n",
    "\n",
    "p MyModule::CONSTANT\n",
    "p MyModule::MyClass::CONSTANT  "
   ]
  },
  {
   "cell_type": "markdown",
   "id": "e72e5dc0-6cbc-4bfd-89e3-394aa0fa4e39",
   "metadata": {},
   "source": [
    "# 方法查找"
   ]
  },
  {
   "cell_type": "code",
   "execution_count": 7,
   "id": "d0027061-bb57-4ce5-8ce6-12e6e648ab8e",
   "metadata": {},
   "outputs": [
    {
     "data": {
      "text/plain": [
       "\"My module method\""
      ]
     },
     "execution_count": 7,
     "metadata": {},
     "output_type": "execute_result"
    }
   ],
   "source": [
    "module M\n",
    "  def my_module_method\n",
    "    'My module method'\n",
    "  end\n",
    "end\n",
    "\n",
    "class C\n",
    "  include M\n",
    "end\n",
    "\n",
    "class D < C\n",
    "end\n",
    "\n",
    "D.new.my_module_method"
   ]
  },
  {
   "cell_type": "code",
   "execution_count": null,
   "id": "8458d36e-5b3c-4744-8a84-d4040b77bb1b",
   "metadata": {},
   "outputs": [],
   "source": []
  }
 ],
 "metadata": {
  "kernelspec": {
   "display_name": "Ruby 2.7.4",
   "language": "ruby",
   "name": "ruby"
  },
  "language_info": {
   "file_extension": ".rb",
   "mimetype": "application/x-ruby",
   "name": "ruby",
   "version": "2.7.4"
  }
 },
 "nbformat": 4,
 "nbformat_minor": 5
}

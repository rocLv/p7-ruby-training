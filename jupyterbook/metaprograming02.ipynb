{
 "cells": [
  {
   "cell_type": "markdown",
   "id": "11f6b2e9-716c-45f7-b2ab-082432f213da",
   "metadata": {},
   "source": [
    "# Method\n",
    "\n",
    "### 动态方法 Object#send\n",
    "\n",
    "> send 可以调用私有方法。\n",
    "\n",
    "```ruby\n",
    "Object#send(symbol [,args])\n",
    "Object#send(string [,args])\n",
    "\n",
    "class Klass\n",
    "  def hello(*args)\n",
    "    \"Hello \" + args.join(' ')\n",
    "  end\n",
    "end\n",
    "k = Klass.new\n",
    "k.send :hello, \"gentle\", \"readers\"   #=> \"Hello gentle readers\"\n",
    "```"
   ]
  },
  {
   "cell_type": "code",
   "execution_count": 69,
   "id": "3a747717-4a64-47af-99d1-96f962536da0",
   "metadata": {},
   "outputs": [
    {
     "data": {
      "text/plain": [
       "[:public_send, :send, :__send__]"
      ]
     },
     "execution_count": 69,
     "metadata": {},
     "output_type": "execute_result"
    }
   ],
   "source": [
    "Object.new.methods.grep(/send/)\n"
   ]
  },
  {
   "cell_type": "code",
   "execution_count": null,
   "id": "ae29cda8-0d24-4078-b82f-322213373007",
   "metadata": {},
   "outputs": [],
   "source": []
  },
  {
   "cell_type": "code",
   "execution_count": 72,
   "id": "21939db5-5f0b-4dfb-a2c7-e8e946f504f6",
   "metadata": {},
   "outputs": [
    {
     "name": "stdout",
     "output_type": "stream",
     "text": [
      "\"Hello world!\"\n",
      "\"Hello gentle readers\"\n"
     ]
    },
    {
     "data": {
      "text/plain": [
       "\"Hello gentle readers\""
      ]
     },
     "execution_count": 72,
     "metadata": {},
     "output_type": "execute_result"
    }
   ],
   "source": [
    "class Klass\n",
    "  def hello(*args)\n",
    "    p \"Hello \" + args.join(' ')\n",
    "  end\n",
    "end\n",
    "k = Klass.new\n",
    "k.hello(\"world!\")\n",
    "k.send :hello, \"gentle\", \"readers\"   #=> \"Hello gentle readers\""
   ]
  },
  {
   "cell_type": "code",
   "execution_count": 15,
   "id": "dabcc5f5-32df-46f4-ab28-6479043d9ea3",
   "metadata": {},
   "outputs": [
    {
     "ename": "TypeError",
     "evalue": "no implicit conversion of true into String",
     "output_type": "error",
     "traceback": [
      "\u001b[31mTypeError\u001b[0m: no implicit conversion of true into String",
      "(irb):5:in `exists?'",
      "(irb):5:in `irb_binding'"
     ]
    }
   ],
   "source": [
    "# 来自Camping的例子\n",
    "\n",
    "\n",
    "#START:configuration\n",
    "# Load configuration if any\n",
    "if conf.rc and File.exists?( conf.rc )\n",
    "  YAML.load_file(conf.rc).each do |k,v|\n",
    "    conf.send(\"#{k}=\", v)\n",
    "  end \n",
    "end\n",
    "#END:configuration"
   ]
  },
  {
   "cell_type": "markdown",
   "id": "152ca460-863a-4f70-9d46-1e0817c9d26a",
   "metadata": {},
   "source": [
    "## DRY"
   ]
  },
  {
   "cell_type": "code",
   "execution_count": 4,
   "id": "d32e589d-ba45-40ca-937e-3ffe7750db32",
   "metadata": {},
   "outputs": [
    {
     "data": {
      "text/plain": [
       ":keyboard"
      ]
     },
     "execution_count": 4,
     "metadata": {},
     "output_type": "execute_result"
    }
   ],
   "source": [
    "class Computer\n",
    "  def initialize(computer_id, data_source)\n",
    "    @id = computer_id\n",
    "    @data_source = data_source\n",
    "  end\n",
    "    \n",
    "  def mouse\n",
    "    info = @data_source.get_mouse_info(@id)\n",
    "    price = @data_source.get_mouse_price(@id)\n",
    "    result = \"Mouse: #{info} ($#{price})\"\n",
    "    return \"* #{result}\" if price >= 100\n",
    "    result\n",
    "  end\n",
    "    \n",
    "  def cpu\n",
    "   info = @data_source.get_cpu_info(@id)\n",
    "   price = @data_source.get_cpu_price(@id)\n",
    "   result = \"Cpu: #{info} ($#{price})\"\n",
    "   return \"* #{result}\" if price >= 100\n",
    "   result\n",
    "  end\n",
    "    \n",
    "  def keyboard\n",
    "    info = @data_source.get_keyboard_info(@id)\n",
    "    price = @data_source.get_keyboard_price(@id)\n",
    "    result = \"Keyboard: #{info} ($#{price})\"\n",
    "    return \"* #{result}\" if price >= 100\n",
    "    result\n",
    "  end\n",
    "# ...\n",
    "end\n",
    "\n",
    "# 这段代码有什么问题？"
   ]
  },
  {
   "cell_type": "markdown",
   "id": "77e8f45b-bb64-4040-9f9e-8b0d2c53d796",
   "metadata": {},
   "source": [
    "## 动态定义方法 Module#define_method"
   ]
  },
  {
   "cell_type": "code",
   "execution_count": 77,
   "id": "f53c8f25-1408-4849-91b5-9f40ee1ac49d",
   "metadata": {},
   "outputs": [
    {
     "data": {
      "text/plain": [
       "9"
      ]
     },
     "execution_count": 77,
     "metadata": {},
     "output_type": "execute_result"
    }
   ],
   "source": [
    "class MyClass\n",
    "  define_method :my_method do |my_arg|\n",
    "    my_arg * 3\n",
    "  end\n",
    "\n",
    "end\n",
    "\n",
    "obj = MyClass.new\n",
    "obj.my_method(2)  # => 6\n",
    "obj.send(:my_method, 3) # => 9\n",
    "\n"
   ]
  },
  {
   "cell_type": "code",
   "execution_count": 74,
   "id": "7c7f66a3-a96e-41ef-baf6-de4e63c57ef5",
   "metadata": {},
   "outputs": [
    {
     "name": "stdout",
     "output_type": "stream",
     "text": [
      "0\n",
      "1\n",
      "2\n",
      "3\n",
      "4\n",
      "5\n",
      "6\n",
      "7\n",
      "8\n",
      "9\n"
     ]
    },
    {
     "data": {
      "text/plain": [
       "10"
      ]
     },
     "execution_count": 74,
     "metadata": {},
     "output_type": "execute_result"
    }
   ],
   "source": [
    "10.times do |i, index|\n",
    "    p i\n",
    "end"
   ]
  },
  {
   "cell_type": "markdown",
   "id": "4dc43847-4191-4992-a01e-967bce77511c",
   "metadata": {},
   "source": [
    "## 重构尝试一： 动态派发\n",
    "\n",
    "使用`send`"
   ]
  },
  {
   "cell_type": "code",
   "execution_count": 22,
   "id": "40facdaf-163d-4038-85d9-aea445f8eaaf",
   "metadata": {},
   "outputs": [
    {
     "data": {
      "text/plain": [
       ":component"
      ]
     },
     "execution_count": 22,
     "metadata": {},
     "output_type": "execute_result"
    }
   ],
   "source": [
    "class Computer\n",
    "  def initialize(computer_id, data_source)\n",
    "    @id = computer_id\n",
    "    @data_source = data_source\n",
    "  end\n",
    "\n",
    "  def mouse\n",
    "    component :mouse\n",
    "  end\n",
    "\n",
    "  def cpu\n",
    "    component :cpu\n",
    "  end\n",
    "\n",
    "  def keyboard\n",
    "    component :keyboard\n",
    "  end\n",
    "\n",
    "  def component(name)\n",
    "    info = @data_source.send \"get_#{name}_info\", @id\n",
    "    price = @data_source.send \"get_#{name}_price\", @id\n",
    "    result = \"#{name.to_s.capitalize}: #{info} ($#{price})\"\n",
    "    return \"* #{result}\" if price >= 100\n",
    "    result\n",
    "  end\n",
    "end\n"
   ]
  },
  {
   "cell_type": "markdown",
   "id": "6b20f99a-8075-4269-b8a6-fe77eecf6a1b",
   "metadata": {},
   "source": [
    "## 重构尝试二： 创建方法"
   ]
  },
  {
   "cell_type": "code",
   "execution_count": 78,
   "id": "94fc6383-9cd8-44d8-9d20-f8d51880daf2",
   "metadata": {},
   "outputs": [
    {
     "name": "stdout",
     "output_type": "stream",
     "text": [
      "\"exec...\"\n",
      "\"exec...\"\n",
      "\"exec...\"\n"
     ]
    },
    {
     "data": {
      "text/plain": [
       ":keyboard"
      ]
     },
     "execution_count": 78,
     "metadata": {},
     "output_type": "execute_result"
    }
   ],
   "source": [
    "class Computer\n",
    "    \n",
    "  def initialize(computer_id, data_source)\n",
    "    @id = computer_id\n",
    "    @data_source = data_source\n",
    "  end\n",
    " \n",
    "\n",
    "  def self.define_component(name)\n",
    "    p \"exec...\"\n",
    "    define_method(name) do\n",
    "      info = @data_source.send \"get_#{name}_info\", @id\n",
    "      price = @data_source.send \"get_#{name}_price\", @id\n",
    "      result = \"#{name.to_s.capitalize}: #{info} ($#{price})\"\n",
    "      return \"* #{result}\" if price >= 100\n",
    "      result\n",
    "    end\n",
    "  end\n",
    "  \n",
    "  define_component :mouse\n",
    "  define_component :cpu\n",
    "  define_component :keyboard\n",
    "end\n"
   ]
  },
  {
   "cell_type": "markdown",
   "id": "2bde8f4d-c9e9-45e1-b721-510637e095e8",
   "metadata": {},
   "source": [
    "## 重构尝试三：用内省方式缩减代码"
   ]
  },
  {
   "cell_type": "code",
   "execution_count": 80,
   "id": "80869c25-2a68-4d9f-8e90-c86bdc63df54",
   "metadata": {},
   "outputs": [
    {
     "data": {
      "text/plain": [
       ":define_component"
      ]
     },
     "execution_count": 80,
     "metadata": {},
     "output_type": "execute_result"
    }
   ],
   "source": [
    "class Computer\n",
    "  def initialize(computer_id, data_source)\n",
    "    @id = computer_id\n",
    "    @data_source = data_source\n",
    "    data_source.methods.grep(/^get_(.*)_info$/) { Computer.define_component $1 }\n",
    "  end  \n",
    "\n",
    "  def self.define_component(name)\n",
    "    define_method(name) do\n",
    "      info = @data_source.send \"get_#{name}_info\", @id\n",
    "      price = @data_source.send \"get_#{name}_price\", @id\n",
    "      result = \"#{name.capitalize}: #{info} ($#{price})\"\n",
    "      return \"* #{result}\" if price >= 100\n",
    "      result\n",
    "    end\n",
    "  end\n",
    "end\n"
   ]
  },
  {
   "cell_type": "markdown",
   "id": "c27a109f-5b8e-4320-87de-72037cebcc0e",
   "metadata": {},
   "source": [
    "# [method_missing](https://ruby-doc.org/core-2.6.3/BasicObject.html)\n",
    "\n",
    "```ruby\n",
    "class Roman\n",
    "  def roman_to_int(str)\n",
    "    # ...\n",
    "  end\n",
    "  def method_missing(methId)\n",
    "    str = methId.id2name\n",
    "    roman_to_int(str)\n",
    "  end\n",
    "end\n",
    "\n",
    "r = Roman.new\n",
    "r.iv      #=> 4\n",
    "```\n"
   ]
  },
  {
   "cell_type": "code",
   "execution_count": 86,
   "id": "cc441b48-f8cf-4191-9277-42eea39541ad",
   "metadata": {},
   "outputs": [
    {
     "name": "stdout",
     "output_type": "stream",
     "text": [
      "You called: hello(world)\n",
      "(You also passed it a block)\n"
     ]
    }
   ],
   "source": [
    "# sample\n",
    "class Lawyer\n",
    "  def method_missing(method, *args)\n",
    "    puts \"You called: #{method}(#{args.join(', ')})\"\n",
    "    puts \"(You also passed it a block)\" if block_given?\n",
    "  end\n",
    "end\n",
    "\n",
    "Lawyer.new.hello(:world){}\n",
    "\n"
   ]
  },
  {
   "cell_type": "markdown",
   "id": "ffc7f818-bdb3-41a9-8b51-0536812928e1",
   "metadata": {},
   "source": [
    "# 幽灵方法"
   ]
  },
  {
   "cell_type": "code",
   "execution_count": 49,
   "id": "6e762ac1-f69d-4fac-9559-226871471593",
   "metadata": {},
   "outputs": [
    {
     "ename": "LoadError",
     "evalue": "cannot load such file -- ruport",
     "output_type": "error",
     "traceback": [
      "\u001b[31mLoadError\u001b[0m: cannot load such file -- ruport",
      "/Users/i/.rvm/rubies/ruby-2.7.4/lib/ruby/2.7.0/rubygems/core_ext/kernel_require.rb:83:in `require'",
      "/Users/i/.rvm/rubies/ruby-2.7.4/lib/ruby/2.7.0/rubygems/core_ext/kernel_require.rb:83:in `require'",
      "(irb):1:in `irb_binding'"
     ]
    }
   ],
   "source": [
    "\n",
    "require 'ruport'\n",
    "table = Ruport::Data::Table.new :column_names => [\"country\", \"wine\"],\n",
    "                                :data => [[\"France\", \"Bordeaux\"],\n",
    "                                          [\"Italy\", \"Chianti\"],\n",
    "                                          [\"France\", \"Chablis\"]]\n",
    "puts table.to_text\n",
    "\n",
    "found = table.rows_with_country(\"France\")\n",
    "found.each do |row|\n",
    "  puts row.to_csv\n",
    "end\n"
   ]
  },
  {
   "cell_type": "raw",
   "id": "67713b15-e89d-40cd-b759-46182e3b9039",
   "metadata": {},
   "source": [
    "⇒ +--------------------+\n",
    "  | country | wine     |\n",
    "  +--------------------+\n",
    "  | France  | Bordeaux | \n",
    "  | Italy   | Chianti  |\n",
    "  | France  | Chabli   |\n",
    "  +--------------------+"
   ]
  },
  {
   "cell_type": "code",
   "execution_count": 50,
   "id": "317374c1-8e28-4579-82c8-830bf7d02086",
   "metadata": {},
   "outputs": [
    {
     "data": {
      "text/plain": [
       ":method_missing"
      ]
     },
     "execution_count": 50,
     "metadata": {},
     "output_type": "execute_result"
    }
   ],
   "source": [
    " # Provides a shortcut for the <tt>as()</tt> method by converting a call to\n",
    "    # <tt>as(:format_name)</tt> into a call to <tt>to_format_name</tt>\n",
    "    #\n",
    "    # Also converts a call to <tt>rows_with_columnname</tt> to a call to\n",
    "    # <tt>rows_with(:columnname => args[0])</tt>.\n",
    "    #\n",
    "  def method_missing(id,*args,&block)\n",
    "   return as($1.to_sym,*args,&block) if id.to_s =~ /^to_(.*)/ \n",
    "   return rows_with($1.to_sym => args[0]) if id.to_s =~ /^rows_with_(.*)/\n",
    "   super\n",
    "  end\n"
   ]
  },
  {
   "cell_type": "markdown",
   "id": "5c399369-4396-42c3-87ac-8b5cd4753e2c",
   "metadata": {},
   "source": [
    "## 补充知识点\n",
    "\n"
   ]
  },
  {
   "cell_type": "code",
   "execution_count": 53,
   "id": "7c1adb9b-ae9d-41bc-a3c9-1d8c2fc05aec",
   "metadata": {},
   "outputs": [
    {
     "data": {
      "text/plain": [
       ":bcd"
      ]
     },
     "execution_count": 53,
     "metadata": {},
     "output_type": "execute_result"
    }
   ],
   "source": [
    "\"adb\".to_sym\n",
    "\"bcd\".intern"
   ]
  },
  {
   "cell_type": "code",
   "execution_count": 89,
   "id": "8d4af9ed-f58b-4355-ab1c-4bbe0da94f34",
   "metadata": {},
   "outputs": [
    {
     "data": {
      "text/plain": [
       "\"abc\""
      ]
     },
     "execution_count": 89,
     "metadata": {},
     "output_type": "execute_result"
    }
   ],
   "source": [
    ":abc.to_s\n",
    ":abc.id2name"
   ]
  },
  {
   "cell_type": "markdown",
   "id": "cdd23189-9399-4730-9729-3c2fd3f22210",
   "metadata": {},
   "source": [
    "## 来自Ruby核心库的例子"
   ]
  },
  {
   "cell_type": "code",
   "execution_count": 92,
   "id": "24d7ef68-9311-46c3-8e9c-620c46a29c55",
   "metadata": {},
   "outputs": [
    {
     "data": {
      "text/plain": [
       "\"strawberry\""
      ]
     },
     "execution_count": 92,
     "metadata": {},
     "output_type": "execute_result"
    }
   ],
   "source": [
    "require 'ostruct'\n",
    "icecream = OpenStruct.new\n",
    "icecream.flavor=(\"strawberry\")\n",
    "icecream.flavor # => \"strawberry\""
   ]
  },
  {
   "cell_type": "markdown",
   "id": "111f9574-6181-4401-963f-6d2513be2752",
   "metadata": {},
   "source": [
    "## 简化版的Openstruct"
   ]
  },
  {
   "cell_type": "code",
   "execution_count": 93,
   "id": "af7a2b7d-80dc-4245-8c35-608e1b1d4cf1",
   "metadata": {},
   "outputs": [
    {
     "data": {
      "text/plain": [
       "\"vanilla\""
      ]
     },
     "execution_count": 93,
     "metadata": {},
     "output_type": "execute_result"
    }
   ],
   "source": [
    "class MyOpenStruct\n",
    "  def initialize\n",
    "    @attributes = {}\n",
    "  end\n",
    "    \n",
    "  def method_missing(name, *args)\n",
    "    attribute = name.to_s\n",
    "    if attribute =~ /=$/\n",
    "      @attributes[attribute.chop] = args[0]\n",
    "    else\n",
    "      @attributes[attribute]\n",
    "    end\n",
    "  end\n",
    "end\n",
    "icecream = MyOpenStruct.new\n",
    "icecream.flavor = \"vanilla\"\n",
    "icecream.flavor"
   ]
  },
  {
   "cell_type": "markdown",
   "id": "ffbb1d0b-5059-4078-8a6b-4ca6bd138ccf",
   "metadata": {},
   "source": [
    "## 动态代理\n",
    "\n",
    "一个捕获幽灵方法调用并把他们转发给另外一个对象的对象，有时在转发前后会包装一些自己的逻辑"
   ]
  },
  {
   "cell_type": "code",
   "execution_count": 63,
   "id": "f7fa4820-d94f-4005-ae5b-153f476e2d82",
   "metadata": {},
   "outputs": [
    {
     "data": {
      "text/plain": [
       ":method_missing"
      ]
     },
     "execution_count": 63,
     "metadata": {},
     "output_type": "execute_result"
    }
   ],
   "source": [
    "def method_missing(method_id, *params)\n",
    "  request(method_id.id2name.gsub(/_/, '.'), params[0])\n",
    "end"
   ]
  },
  {
   "cell_type": "code",
   "execution_count": 66,
   "id": "3b10297a-30e6-4e37-a35c-cccee4c7f324",
   "metadata": {},
   "outputs": [
    {
     "data": {
      "text/plain": [
       "\"(Frank) You have a meeting today.\""
      ]
     },
     "execution_count": 66,
     "metadata": {},
     "output_type": "execute_result"
    }
   ],
   "source": [
    "require 'delegate'\n",
    "class Assistant\n",
    "  def initialize(name)\n",
    "    @name = name\n",
    "  end\n",
    "    \n",
    "  def read_email\n",
    "    \"(#{@name}) It's mostly spam.\"\n",
    "  end\n",
    "  \n",
    "  def check_schedule\n",
    "    \"(#{@name}) You have a meeting today.\"\n",
    "  end\n",
    "end\n",
    "\n",
    "class Manager < DelegateClass(Assistant)\n",
    "  def initialize(assistant)\n",
    "    super(assistant)\n",
    "  end\n",
    "  \n",
    "  def attend_meeting\n",
    "    \"Please hold my calls.\"\n",
    "  end\n",
    "end\n",
    "\n",
    "frank = Assistant.new(\"Frank\")\n",
    "anne = Manager.new(frank)\n",
    "anne.attend_meeting     # => \"Please hold my calls.\"\n",
    "anne.read_email         # => \"(Frank) It's mostly spam.\"\n",
    "anne.check_schedule     # => \"(Frank) You have a meeting today.\""
   ]
  },
  {
   "cell_type": "markdown",
   "id": "34e33316-609b-4802-8607-d5bd6ee71df5",
   "metadata": {},
   "source": [
    "`DelegateClass()`是一种拟态方法， 创建并返回一个新的`Class`\n",
    "\n",
    "这个类会定义一个`method_missing`方法，并把对它发生的调用转发到被封装的对象上。"
   ]
  },
  {
   "cell_type": "markdown",
   "id": "876267d2-75e0-4d27-a544-c0bbb066cad4",
   "metadata": {
    "tags": []
   },
   "source": [
    "## 终极重构"
   ]
  },
  {
   "cell_type": "code",
   "execution_count": 71,
   "id": "4e8879a1-933f-48a8-9d1e-5903461f969a",
   "metadata": {},
   "outputs": [
    {
     "data": {
      "text/plain": [
       ":get_display_price"
      ]
     },
     "execution_count": 71,
     "metadata": {},
     "output_type": "execute_result"
    }
   ],
   "source": [
    "class DS\n",
    "  def initialize # connect to data source...\n",
    "  end\n",
    "\n",
    "  def get_mouse_info(workstation_id) # ...\n",
    "    \"Dual Optical\"\n",
    "  end\n",
    "  \n",
    "  def get_mouse_price(workstation_id) # ...\n",
    "    40\n",
    "  end\n",
    "  \n",
    "  def get_keyboard_info(workstation_id) # ...\n",
    "    \"Standard UK\"\n",
    "  end\n",
    "  \n",
    "  def get_keyboard_price(workstation_id) # ...\n",
    "    20\n",
    "  end\n",
    "\n",
    "  def get_cpu_info(workstation_id) # ...\n",
    "      \"2.16 Ghz\"\n",
    "    end\n",
    "\n",
    "  def get_cpu_price(workstation_id) # ...\n",
    "    220\n",
    "  end\n",
    "\n",
    "  def get_display_info(workstation_id) # ...\n",
    "    \"LED 1280x1024\"\n",
    "  end\n",
    "\n",
    "  def get_display_price(workstation_id) # ...\n",
    "  # ...and so on\n",
    "    150\n",
    "  end\n",
    "end"
   ]
  },
  {
   "cell_type": "code",
   "execution_count": 75,
   "id": "49725995-584e-4baa-9f4c-201db00d1b69",
   "metadata": {},
   "outputs": [
    {
     "data": {
      "text/plain": [
       "\"* Cpu: 2.16 Ghz ($220)\""
      ]
     },
     "execution_count": 75,
     "metadata": {},
     "output_type": "execute_result"
    }
   ],
   "source": [
    "class Computer\n",
    "  def initialize(computer_id, data_source)\n",
    "    @id = computer_id\n",
    "    @data_source = data_source\n",
    "  end\n",
    "    \n",
    "  def method_missing(name, *args)\n",
    "    super unless @data_source.respond_to?(\"get_#{name}_info\")\n",
    "    info = @data_source.send(\"get_#{name}_info\", args[0])\n",
    "    price = @data_source.send(\"get_#{name}_price\", args[0])\n",
    "    brand = @data_source.send(\"get_#{name}_brand\", args[0])\n",
    "    result = \"#{name.to_s.capitalize}: #{info} ($#{price})\"\n",
    "    return \"* #{result}\" if price >= 100\n",
    "    result\n",
    "  end\n",
    "end\n",
    "\n",
    "cmp = Computer.new(0, DS.new)\n",
    "cmp.cpu\n",
    "# cmp.respond_to?(:mous)       # => false"
   ]
  },
  {
   "cell_type": "markdown",
   "id": "99bedfb5-68fc-469f-a4b9-35d1f4b8b6fc",
   "metadata": {},
   "source": [
    "# method_missing in Rails"
   ]
  },
  {
   "cell_type": "code",
   "execution_count": 77,
   "id": "1159f6c4-1d09-4c2b-9fcd-cad800ecfce7",
   "metadata": {},
   "outputs": [
    {
     "ename": "NameError",
     "evalue": "uninitialized constant #<Class:0x00007fde84250368>::ClassSpecificRelation::ActiveSupport",
     "output_type": "error",
     "traceback": [
      "\u001b[31mNameError\u001b[0m: uninitialized constant #<Class:0x00007fde84250368>::ClassSpecificRelation::ActiveSupport",
      "(irb):1:in `<module:ClassSpecificRelation>'",
      "(irb):in `irb_binding'"
     ]
    }
   ],
   "source": [
    " module ClassSpecificRelation # :nodoc:\n",
    "      extend ActiveSupport::Concern\n",
    "\n",
    "      module ClassMethods # :nodoc:\n",
    "        def name\n",
    "          superclass.name\n",
    "        end\n",
    "      end\n",
    "\n",
    "      private\n",
    "        def method_missing(method, *args, &block)\n",
    "          if @klass.respond_to?(method)\n",
    "            @klass.generate_relation_method(method)\n",
    "            scoping { @klass.public_send(method, *args, &block) }\n",
    "          else\n",
    "            super\n",
    "          end\n",
    "        end\n",
    "        ruby2_keywords(:method_missing)\n",
    "end"
   ]
  },
  {
   "cell_type": "markdown",
   "id": "ca8f48e2-c3f0-4dea-aedc-60f6ed6dfe8e",
   "metadata": {},
   "source": [
    "# Module#const_missing"
   ]
  },
  {
   "cell_type": "code",
   "execution_count": 94,
   "id": "1ef27da2-2850-4c11-8265-521e7d3c72a8",
   "metadata": {},
   "outputs": [
    {
     "data": {
      "text/plain": [
       "\"my constant\""
      ]
     },
     "execution_count": 94,
     "metadata": {},
     "output_type": "execute_result"
    }
   ],
   "source": [
    "def Object.const_missing(name)\n",
    "  name.to_s.downcase.gsub(/_/, ' ')\n",
    "end\n",
    "\n",
    "MY_CONSTANT"
   ]
  },
  {
   "cell_type": "markdown",
   "id": "73915b06-e660-4c4f-8a3b-3ea09ce7716d",
   "metadata": {},
   "source": [
    "## 当方法冲突时"
   ]
  },
  {
   "cell_type": "code",
   "execution_count": 99,
   "id": "48c3d216-73bd-49f3-ae1c-4664c1666588",
   "metadata": {},
   "outputs": [
    {
     "name": "stdout",
     "output_type": "stream",
     "text": [
      "#<#<Class:0x00007fc075af2ef8>::Foo:0x00007fc07528b4e0>"
     ]
    }
   ],
   "source": [
    "class Foo\n",
    "end\n",
    "Foo.new.display"
   ]
  },
  {
   "cell_type": "code",
   "execution_count": 83,
   "id": "5fe34c29-4824-485b-98ee-1d8815cad7cd",
   "metadata": {},
   "outputs": [
    {
     "data": {
      "text/plain": [
       "[:dup, :display, :define_singleton_method]"
      ]
     },
     "execution_count": 83,
     "metadata": {},
     "output_type": "execute_result"
    }
   ],
   "source": [
    "Object.instance_methods.grep /^d/"
   ]
  },
  {
   "cell_type": "code",
   "execution_count": 103,
   "id": "ec5e0193-35a4-4de2-9065-d7b43dcf6766",
   "metadata": {},
   "outputs": [
    {
     "name": "stdout",
     "output_type": "stream",
     "text": [
      "#<#<Class:0x00007fc075af2ef8>::Foo:0x00007fc075b80690>"
     ]
    }
   ],
   "source": [
    "class Foo\n",
    "  def display;end\n",
    "    \n",
    "  remove_method :display\n",
    "end\n",
    "Foo.new.display"
   ]
  },
  {
   "cell_type": "code",
   "execution_count": 85,
   "id": "21ea7d97-1a5e-4c8d-aa8b-8fd90a97c4fe",
   "metadata": {},
   "outputs": [
    {
     "data": {
      "text/plain": [
       "true"
      ]
     },
     "execution_count": 85,
     "metadata": {},
     "output_type": "execute_result"
    }
   ],
   "source": [
    "require 'pry-doc'"
   ]
  },
  {
   "cell_type": "markdown",
   "id": "edbe33ed-02b3-4733-97b4-c85be189f7f1",
   "metadata": {},
   "source": [
    "## 性能"
   ]
  },
  {
   "cell_type": "code",
   "execution_count": 100,
   "id": "d54f543d-1af4-488d-a46b-bd286f279adc",
   "metadata": {},
   "outputs": [
    {
     "ename": "NoMethodError",
     "evalue": "undefined method `ghost_reverse' for \"abc\":String",
     "output_type": "error",
     "traceback": [
      "\u001b[31mNoMethodError\u001b[0m: undefined method `ghost_reverse' for \"abc\":String",
      "(irb):8:in `irb_binding'"
     ]
    }
   ],
   "source": [
    "# 在此执行会有问题\n",
    "\n",
    "class String\n",
    "  def method_missing(method, *args)\n",
    "    method == :ghost_reverse ? reverse : super\n",
    "  end\n",
    "end\n",
    "\n",
    "\"abc\".ghost_reverse\n",
    "\n",
    "require 'benchmark'\n",
    "\n",
    "Benchmark.bm do |b|\n",
    "  b.report 'Normal method' do\n",
    "    1000000.times { \"abc\".reverse }\n",
    "  end\n",
    "    \n",
    "  b.report 'Ghost method ' do\n",
    "   1000000.times { \"abc\".ghost_reverse }\n",
    "  end\n",
    "end"
   ]
  },
  {
   "cell_type": "markdown",
   "id": "c8581993-84f0-4500-8ba3-50497cd23f54",
   "metadata": {
    "tags": []
   },
   "source": [
    "### 白板类\n",
    "\n",
    "> 1.9 以后，可以使用BasicObject\n"
   ]
  },
  {
   "cell_type": "code",
   "execution_count": null,
   "id": "b8d20533-f7d3-4e0e-8b6b-a4680acf9c7f",
   "metadata": {},
   "outputs": [],
   "source": [
    "######################################################################\n",
    "# BlankSlate provides an abstract base class with no predefined\n",
    "# methods (except for <tt>\\_\\_send__</tt> and <tt>\\_\\_id__</tt>).\n",
    "# BlankSlate is useful as a base class when writing classes that\n",
    "# depend upon <tt>method_missing</tt> (e.g. dynamic proxies).\n",
    "#\n",
    "class BlankSlate\n",
    "  # Hide the method named +name+ in the BlankSlate class.  Don't\n",
    "  # hide +instance_eval+ or any method beginning with \"__\".\n",
    "  def self.hide(name)\n",
    "    if instance_methods.include?(name.to_s) and\n",
    "      name !~ /^(__|instance_eval)/\n",
    "      @hidden_methods ||= {}\n",
    "      @hidden_methods[name.to_sym] = instance_method(name)\n",
    "      undef_method name\n",
    "    end\n",
    "  end\n",
    "\n",
    "  class << self\n",
    "    \n",
    "    def find_hidden_method(name)\n",
    "      @hidden_methods ||= {}\n",
    "      @hidden_methods[name] || superclass.find_hidden_method(name)\n",
    "    end\n",
    "\n",
    "    # Redefine a previously hidden method so that it may be called on a blank\n",
    "    # slate object.\n",
    "    def reveal(name)\n",
    "      bound_method = nil\n",
    "      unbound_method = find_hidden_method(name)\n",
    "      fail \"Don't know how to reveal method '#{name}'\" unless unbound_method\n",
    "      define_method(name) do |*args|\n",
    "        bound_method ||= unbound_method.bind(self)\n",
    "        bound_method.call(*args)\n",
    "      end\n",
    "    end\n",
    "  end\n",
    "  \n",
    "  instance_methods.each { |m| hide(m) }\n",
    "  # ...\n",
    "end"
   ]
  },
  {
   "cell_type": "markdown",
   "id": "5ed74ead-03e0-4437-b897-aac8f5994433",
   "metadata": {
    "tags": []
   },
   "source": [
    "## Module#undef_method\n",
    "\n",
    "> 删除自身以及继承来的方法，删除的最彻底\n",
    "\n",
    "## Module#remove_method\n",
    "\n",
    "> 仅删除自身"
   ]
  },
  {
   "cell_type": "code",
   "execution_count": 111,
   "id": "276760bf-a661-4741-b2d0-b65601707268",
   "metadata": {},
   "outputs": [
    {
     "name": "stdout",
     "output_type": "stream",
     "text": [
      "[:hello]\n"
     ]
    },
    {
     "data": {
      "text/plain": [
       "[:hello]"
      ]
     },
     "execution_count": 111,
     "metadata": {},
     "output_type": "execute_result"
    }
   ],
   "source": [
    "class Parent\n",
    "  def hello\n",
    "    puts \"In parent\"\n",
    "  end\n",
    "end\n",
    "   \n",
    "class Child < Parent\n",
    "  def hello\n",
    "    puts \"In child\"\n",
    "  end\n",
    "end\n",
    "\n",
    "c = Child.new\n",
    "# c.hello\n",
    "\n",
    "# p Child.instance_methods(false)\n",
    "p Parent.instance_methods(false)"
   ]
  },
  {
   "cell_type": "code",
   "execution_count": 1,
   "id": "8ca6a59c-ad0d-4e47-99db-bf20b780fa47",
   "metadata": {},
   "outputs": [
    {
     "ename": "NameError",
     "evalue": "method `hello' not defined in #<Class:0x00007fa2db2d62e0>::Child",
     "output_type": "error",
     "traceback": [
      "\u001b[31mNameError\u001b[0m: method `hello' not defined in #<Class:0x00007fa2db2d62e0>::Child",
      "(irb):1:in `remove_method'",
      "(irb):1:in `<class:Child>'",
      "(irb):in `irb_binding'"
     ]
    }
   ],
   "source": [
    "class Child\n",
    "  remove_method :hello  # remove from child, still in parent\n",
    "end\n",
    "\n",
    "p Parent.instance_methods(false)\n",
    "# p Child.instance_methods(false)"
   ]
  },
  {
   "cell_type": "code",
   "execution_count": 4,
   "id": "a7ae22df-5a36-42b8-a2f2-4a7f30ee46a3",
   "metadata": {},
   "outputs": [
    {
     "ename": "NoMethodError",
     "evalue": "undefined method `hello' for #<#<Class:0x00007fa2db2d62e0>::Child1:0x00007fa2db26c8b8>",
     "output_type": "error",
     "traceback": [
      "\u001b[31mNoMethodError\u001b[0m: undefined method `hello' for #<#<Class:0x00007fa2db2d62e0>::Child1:0x00007fa2db26c8b8>",
      "(irb):17:in `irb_binding'"
     ]
    }
   ],
   "source": [
    "class Parent1\n",
    "  def hello\n",
    "    puts \"In parent\"\n",
    "  end\n",
    "end\n",
    "   \n",
    "class Child1 < Parent1\n",
    "  def hello\n",
    "    puts \"In child\"\n",
    "  end\n",
    "end\n",
    "\n",
    "class Child1\n",
    "  undef_method :hello   # prevent any calls to 'hello'\n",
    "end\n",
    "\n",
    "c = Child1.new\n",
    "c.hello"
   ]
  },
  {
   "cell_type": "code",
   "execution_count": null,
   "id": "0fd6f204-67c1-4892-9cf6-97c9abc5ead0",
   "metadata": {},
   "outputs": [],
   "source": [
    "static VALUE\n",
    "rb_mod_undef_method(int argc, VALUE *argv, VALUE mod)\n",
    "{\n",
    "    int i;\n",
    "    for (i = 0; i < argc; i++) {\n",
    "        VALUE v = argv[i];\n",
    "        ID id = rb_check_id(&v);\n",
    "        if (!id) {\n",
    "          rb_method_name_error(mod, v);\n",
    "        }\n",
    "        rb_undef(mod, id);\n",
    "    }\n",
    "    return mod;\n",
    "}"
   ]
  },
  {
   "cell_type": "markdown",
   "id": "fce339c1-18d8-4d4d-b20e-3dda6fa281b1",
   "metadata": {},
   "source": [
    "# 回顾yield"
   ]
  },
  {
   "cell_type": "code",
   "execution_count": 7,
   "id": "aac234a4-fd8d-4009-a998-d8df1d5bb42d",
   "metadata": {},
   "outputs": [
    {
     "ename": "LocalJumpError",
     "evalue": "no block given (yield)",
     "output_type": "error",
     "traceback": [
      "\u001b[31mLocalJumpError\u001b[0m: no block given (yield)",
      "(irb):1:in `a_method'",
      "(irb):5:in `irb_binding'"
     ]
    }
   ],
   "source": [
    "def a_method a,b\n",
    "  a + yield(a,b)\n",
    "  a + yield(a,b)\n",
    "end\n",
    "\n",
    "a_method(1, 2)"
   ]
  },
  {
   "cell_type": "markdown",
   "id": "be6e3ab9-1448-4cd6-9317-215639f90dcd",
   "metadata": {},
   "source": [
    "## Kernel#block_given?"
   ]
  },
  {
   "cell_type": "code",
   "execution_count": 8,
   "id": "e58e71c9-19eb-492c-b097-44fab71f3a0f",
   "metadata": {},
   "outputs": [
    {
     "data": {
      "text/plain": [
       "3"
      ]
     },
     "execution_count": 8,
     "metadata": {},
     "output_type": "execute_result"
    }
   ],
   "source": [
    "def a_method a,b\n",
    "  a + yield(a,b) if block_given?\n",
    "  a + b\n",
    "end\n",
    "\n",
    "a_method(1, 2)"
   ]
  },
  {
   "cell_type": "markdown",
   "id": "8f61c27a-411c-49c3-a18d-fa22149f3f64",
   "metadata": {},
   "source": [
    "# using 关键字\n",
    "\n",
    "`using` 希望`conn` 有个`dispose` 的方法，保证资源得到释放\n",
    "\n",
    "```c#\n",
    "RemoteConnection conn = new RemoteConnection(\"some_remote_server\");\n",
    "using (conn)\n",
    "{\n",
    "    conn.readSomeData();\n",
    "    doSomeMoreStuff();\n",
    "}\n",
    "\n",
    "```"
   ]
  },
  {
   "cell_type": "code",
   "execution_count": 25,
   "id": "2c319ca5-55aa-4981-851c-802cf7d589ea",
   "metadata": {},
   "outputs": [
    {
     "data": {
      "text/plain": [
       ":using"
      ]
     },
     "execution_count": 25,
     "metadata": {},
     "output_type": "execute_result"
    }
   ],
   "source": [
    "module Kernel\n",
    "  def using(resource)\n",
    "    begin\n",
    "      yield\n",
    "    ensure\n",
    "      resource.dispose\n",
    "    end\n",
    "   end\n",
    "end"
   ]
  },
  {
   "cell_type": "code",
   "execution_count": 26,
   "id": "7ce6563e-2138-45ed-90f4-c2126d5b21eb",
   "metadata": {},
   "outputs": [
    {
     "data": {
      "text/plain": [
       ":test_disposes_of_resources_in_case_of_exception"
      ]
     },
     "execution_count": 26,
     "metadata": {},
     "output_type": "execute_result"
    }
   ],
   "source": [
    "# 测试程序\n",
    "\n",
    "\n",
    "require 'test/unit'\n",
    "\n",
    "class TestUsing < Test::Unit::TestCase\n",
    "  class Resource\n",
    "    def dispose\n",
    "      @disposed = true\n",
    "    end\n",
    "\n",
    "    def disposed?\n",
    "      @disposed\n",
    "    end\n",
    "  end\n",
    "\n",
    "  def test_disposes_of_resources\n",
    "    r = Resource.new\n",
    "    using(r) {}\n",
    "    assert r.disposed?\n",
    "  end\n",
    "  \n",
    "  def test_disposes_of_resources_in_case_of_exception\n",
    "    r = Resource.new\n",
    "    assert_raises(Exception) {\n",
    "      using(r) {\n",
    "        raise Exception\n",
    "      }\n",
    "    }\n",
    "    assert r.disposed?\n",
    "  end\n",
    "end\n"
   ]
  },
  {
   "cell_type": "markdown",
   "id": "bd8c2075-fcb8-40b8-91f3-baada0be1d86",
   "metadata": {},
   "source": [
    "# Lamba和Proc：把函数当成一等公民"
   ]
  },
  {
   "cell_type": "code",
   "execution_count": 11,
   "id": "76e8537e-bd0b-4637-96f3-6ba74d2bb988",
   "metadata": {},
   "outputs": [
    {
     "name": "stdout",
     "output_type": "stream",
     "text": [
      "\"The quick brown fox jumps over the lazay dog\"\n"
     ]
    },
    {
     "data": {
      "text/plain": [
       "\"The quick brown fox jumps over the lazay dog\""
      ]
     },
     "execution_count": 11,
     "metadata": {},
     "output_type": "execute_result"
    }
   ],
   "source": [
    "def msg_func\n",
    "  str = \"The quick brown fox\"\n",
    "  lambda do |animal|\n",
    "    p \"#{str} jumps over the lazay #{animal}\"\n",
    "  end\n",
    "end\n",
    "\n",
    "func = msg_func\n",
    "func.call('dog')"
   ]
  },
  {
   "cell_type": "markdown",
   "id": "c11d2734-c418-4944-95ae-8451f721fb51",
   "metadata": {},
   "source": [
    "<img src=\"assets/proc.png\" alt=\"Drawing\" style=\"width: 600px; height: 600px\"/>"
   ]
  },
  {
   "cell_type": "markdown",
   "id": "d4baec4f-edce-425a-b7bb-d30105698695",
   "metadata": {},
   "source": [
    "### Ruby 会避免栈帧的多次复制"
   ]
  },
  {
   "cell_type": "code",
   "execution_count": 19,
   "id": "1022b425-941e-49f2-8cd7-3b9dd3dfb68d",
   "metadata": {},
   "outputs": [
    {
     "name": "stdout",
     "output_type": "stream",
     "text": [
      "\"Inc from 0 to 1\"\n",
      "\"Dec from 1 to 0\"\n",
      "\"Inc from 0 to 1\"\n",
      "\"Inc from 1 to 2\"\n",
      "\"Dec from 2 to 1\"\n"
     ]
    },
    {
     "data": {
      "text/plain": [
       "\"Dec from 2 to 1\""
      ]
     },
     "execution_count": 19,
     "metadata": {},
     "output_type": "execute_result"
    }
   ],
   "source": [
    "## 所以复用了 i 的值，并没有在 lambda 内部保持 i 的值\n",
    "i = 0\n",
    "\n",
    "inc_func = -> do\n",
    "  p \"Inc from #{i} to #{i+1}\"\n",
    "  i += 1\n",
    "end\n",
    "\n",
    "dec_func = -> do\n",
    "  i -= 1\n",
    "  p \"Dec from #{i+1} to #{i}\"\n",
    "end\n",
    "\n",
    "inc_func.call\n",
    "dec_func[]\n",
    "inc_func.===\n",
    "inc_func.===\n",
    "dec_func[]"
   ]
  },
  {
   "cell_type": "markdown",
   "id": "98d09ced-6518-4ccd-9d0f-739faef6de84",
   "metadata": {
    "jp-MarkdownHeadingCollapsed": true,
    "tags": []
   },
   "source": [
    "# 闭包（Closure）\n",
    "\n",
    "<img src=\"assets/code.png\" alt=\"Drawing\" style=\"width: 600px; height: 600px\"/>\n",
    "\n",
    "### 可运行代码： 代码 + 绑定"
   ]
  },
  {
   "cell_type": "code",
   "execution_count": 12,
   "id": "0cbf8e4f-fa00-46cd-92d8-d1fa8c2b861c",
   "metadata": {},
   "outputs": [
    {
     "data": {
      "text/plain": [
       "\"Binding, cruel world\""
      ]
     },
     "execution_count": 12,
     "metadata": {},
     "output_type": "execute_result"
    }
   ],
   "source": [
    "def my_method\n",
    "  x = \"Not Binding\"\n",
    "  yield(\"cruel\")\n",
    "end\n",
    "\n",
    "x = \"Binding\"\n",
    "my_method {|y| \"#{x}, #{y} world\" } # => \"Hello, cruel world\"\n"
   ]
  },
  {
   "cell_type": "markdown",
   "id": "964fc2c2-57fa-421c-aed2-207b720eecc9",
   "metadata": {},
   "source": [
    "# 作用域Scope\n",
    "\n",
    "**Ruby中的作用域是截然分开的！！！**"
   ]
  },
  {
   "cell_type": "code",
   "execution_count": 21,
   "id": "124c03e7-a28f-4fb5-b6fe-fa655beafd51",
   "metadata": {},
   "outputs": [
    {
     "data": {
      "text/plain": [
       "[:obj, :v1, :x, :func, :c]"
      ]
     },
     "execution_count": 21,
     "metadata": {},
     "output_type": "execute_result"
    }
   ],
   "source": [
    "# Kernel#local_varialbles \n",
    "\n",
    "v1 = 1 \n",
    "\n",
    "class MyClass\n",
    "  # p v1  # 不可见 NameError: undefined local variable or method `v1' for #<Class:0x00007fc075af2ef8>::MyClass\n",
    "  v2 = 2                \n",
    "  local_variables    # => [:v2]\n",
    "  def my_method\n",
    "    # p v2\n",
    "    v3 = 3\n",
    "    local_variables\n",
    "  end\n",
    "  local_variables    # => [:v2]\n",
    "end\n",
    "\n",
    "obj = MyClass.new\n",
    "obj.my_method        # => [:v3]\n",
    "local_variables.grep /^[^_]/      # => [:v1, :obj]"
   ]
  },
  {
   "cell_type": "markdown",
   "id": "8a7ec947-c6d8-4ff1-a716-2c80784589b7",
   "metadata": {},
   "source": [
    "### 作用域门\n",
    "\n",
    "* 类定义\n",
    "* 模块定义\n",
    "* 方法\n",
    "\n",
    "<img src=\"assets/scope.png\" alt=\"Drawing\" style=\"width: 600px; height: 400px\"/>"
   ]
  },
  {
   "cell_type": "markdown",
   "id": "9b422008-88c4-4438-86ad-e734645ce1e0",
   "metadata": {},
   "source": [
    "## 全局变量和顶尖实例变量"
   ]
  },
  {
   "cell_type": "code",
   "execution_count": 23,
   "id": "72712e7d-ce37-446f-ab83-f22e480b32a4",
   "metadata": {},
   "outputs": [
    {
     "data": {
      "text/plain": [
       "\"some value\""
      ]
     },
     "execution_count": 23,
     "metadata": {},
     "output_type": "execute_result"
    }
   ],
   "source": [
    "def a_scope\n",
    "  $var = \"some value\"\n",
    "end\n",
    "\n",
    "def another_scope\n",
    "  $var\n",
    "end\n",
    "\n",
    "a_scope\n",
    "another_scope # => \"some value\""
   ]
  },
  {
   "cell_type": "code",
   "execution_count": 26,
   "id": "6a3a94db-ca8a-4aec-a19b-78962cd4eab7",
   "metadata": {},
   "outputs": [
    {
     "data": {
      "text/plain": [
       "\"The top-level @var\""
      ]
     },
     "execution_count": 26,
     "metadata": {},
     "output_type": "execute_result"
    }
   ],
   "source": [
    "\n",
    "@var = \"The top-level @var\"\n",
    "\n",
    "def my_method\n",
    "  @var\n",
    "end\n",
    "\n",
    "my_method # => \"The top-level @var\"\n"
   ]
  },
  {
   "cell_type": "code",
   "execution_count": 39,
   "id": "eaec89c1-0e79-41ab-b662-64f0faebc231",
   "metadata": {},
   "outputs": [
    {
     "data": {
      "text/plain": [
       "Object"
      ]
     },
     "execution_count": 39,
     "metadata": {},
     "output_type": "execute_result"
    }
   ],
   "source": [
    "self.class"
   ]
  },
  {
   "cell_type": "code",
   "execution_count": 29,
   "id": "fedb944f-07f2-4194-abb3-fd1a4892fe21",
   "metadata": {},
   "outputs": [
    {
     "data": {
      "text/plain": [
       "[:obj, :v1, :x, :func, :c]"
      ]
     },
     "execution_count": 29,
     "metadata": {},
     "output_type": "execute_result"
    }
   ],
   "source": [
    "class MyClass\n",
    "  def my_method\n",
    "    @var = \"This is not the top-level @var!\"\n",
    "  end\n",
    "end\n",
    "\n",
    "MyClass.new.instance_variables\n",
    "local_variables.grep  /^[^_]/"
   ]
  },
  {
   "cell_type": "markdown",
   "id": "e1225cd0-e83e-4c52-9d56-be4bb9d4772d",
   "metadata": {},
   "source": [
    "## 扁平化作用域\n",
    "\n",
    "场景：希望在方法之间共享一个变量，但是又不希望其他方法访问它"
   ]
  },
  {
   "cell_type": "code",
   "execution_count": null,
   "id": "e41fd7e0-373b-47b0-bbc0-95abf514beca",
   "metadata": {},
   "outputs": [],
   "source": []
  },
  {
   "cell_type": "code",
   "execution_count": 49,
   "id": "45f03d67-7d83-4bb5-9181-31df7beb3825",
   "metadata": {},
   "outputs": [
    {
     "data": {
      "text/plain": [
       ":my_method"
      ]
     },
     "execution_count": 49,
     "metadata": {},
     "output_type": "execute_result"
    }
   ],
   "source": [
    "my_var = \"Success\"\n",
    "class MyClass\n",
    "  # We want to print my_var here...\n",
    "    \n",
    "  def my_method\n",
    "    # ..and here\n",
    "  end\n",
    "end\n"
   ]
  },
  {
   "cell_type": "markdown",
   "id": "7edf4cfd-5c0d-4252-8cbb-f5874931ba03",
   "metadata": {},
   "source": [
    "### Class.new == class"
   ]
  },
  {
   "cell_type": "code",
   "execution_count": 33,
   "id": "4f2e1e82-c493-4ed3-afdc-31367244dd53",
   "metadata": {},
   "outputs": [
    {
     "name": "stderr",
     "output_type": "stream",
     "text": [
      "(irb):2: warning: already initialized constant Object::MyClass\n",
      "(irb):2: warning: previous definition of MyClass was here\n"
     ]
    },
    {
     "ename": "NameError",
     "evalue": "undefined local variable or method `my_var' for #<#<Class:0x00007fa2db1889d8>:0x00007fa2db180670>",
     "output_type": "error",
     "traceback": [
      "\u001b[31mNameError\u001b[0m: undefined local variable or method `my_var' for #<#<Class:0x00007fa2db1889d8>:0x00007fa2db180670>",
      "(irb):8:in `my_method'",
      "(irb):11:in `irb_binding'"
     ]
    }
   ],
   "source": [
    "my_var = \"Success\"\n",
    "\n",
    "MyClass = Class.new do\n",
    "  # Now we can print my_var here...\n",
    "  #puts \"#{my_var} in the class definition!\"\n",
    "\n",
    "  def my_method\n",
    "    # ...but how can we print it here?\n",
    "    puts \"#{my_var} in the method definition!\"\n",
    "  end\n",
    "end\n",
    "MyClass.new.my_method"
   ]
  },
  {
   "cell_type": "markdown",
   "id": "8b0cdf99-b9c8-46d0-8eb6-c03b1df4d8c5",
   "metadata": {},
   "source": [
    "# Module#define_method"
   ]
  },
  {
   "cell_type": "code",
   "execution_count": 34,
   "id": "d57a14bd-2379-4d3a-9354-7dfadd016a2b",
   "metadata": {},
   "outputs": [
    {
     "name": "stdout",
     "output_type": "stream",
     "text": [
      "Success in the class definition!\n"
     ]
    },
    {
     "name": "stderr",
     "output_type": "stream",
     "text": [
      "(irb):2: warning: already initialized constant Object::MyClass\n",
      "(irb):2: warning: previous definition of MyClass was here\n"
     ]
    },
    {
     "name": "stdout",
     "output_type": "stream",
     "text": [
      "Success in the method!\n"
     ]
    }
   ],
   "source": [
    "my_var = \"Success\"\n",
    "\n",
    "MyClass = Class.new do\n",
    "  puts \"#{my_var} in the class definition!\"\n",
    "\n",
    "  define_method :my_method do\n",
    "    puts \"#{my_var} in the method!\"\n",
    "  end\n",
    "end\n",
    "\n",
    "MyClass.new.my_method"
   ]
  },
  {
   "cell_type": "markdown",
   "id": "01fad9dd-7753-4067-a4f0-573b93aefd83",
   "metadata": {},
   "source": [
    "# 作用域小结\n",
    "\n",
    "### 作用域门\n",
    "* class\n",
    "* module\n",
    "* def\n",
    "\n",
    "\n",
    "### 关键技术\n",
    "* Class.new\n",
    "* Module.new\n",
    "* define_method\n"
   ]
  },
  {
   "cell_type": "markdown",
   "id": "07468d5a-5152-4273-b54b-81990b958713",
   "metadata": {},
   "source": [
    "# Object#instance_eval\n",
    " \n",
    "> instance_eval(string [, filename [, lineno]] ) → obj\n",
    "\n",
    "> instance_eval {|obj| block } → obj\n",
    "\n",
    "Evaluates a string containing Ruby source code, or the given block, within the context of the receiver (obj). In order to set the context, the variable self is set to obj while the code is executing, giving the code access to obj's instance variables and private methods.\n",
    "  When instance_eval is given a block, obj is also passed in as the block's only argument.\n",
    "  When instance_eval is given a String, the optional second and third parameters supply a filename and starting line number that are used when reporting compilation errors.\n",
    "\n",
    "```ruby\n",
    "class KlassWithSecret\n",
    "  def initialize\n",
    "    @secret = 99\n",
    "  end\n",
    "  private\n",
    "  def the_secret\n",
    "    \"Ssssh! The secret is #{@secret}.\"\n",
    "  end\n",
    "end\n",
    "k = KlassWithSecret.new\n",
    "k.instance_eval { @secret }          #=> 99\n",
    "k.instance_eval { the_secret }       #=> \"Ssssh! The secret is 99.\"\n",
    "k.instance_eval {|obj| obj == self } #=> true\n",
    "```\n"
   ]
  },
  {
   "cell_type": "code",
   "execution_count": 35,
   "id": "788fde40-6604-41d6-98ff-13e910dfaf2c",
   "metadata": {},
   "outputs": [
    {
     "name": "stdout",
     "output_type": "stream",
     "text": [
      "\"hello\"\n"
     ]
    },
    {
     "data": {
      "text/plain": [
       "\"hello\""
      ]
     },
     "execution_count": 35,
     "metadata": {},
     "output_type": "execute_result"
    }
   ],
   "source": [
    "\n",
    "class MyClass\n",
    "  def initialize\n",
    "    @v = 1\n",
    "  end\n",
    "end\n",
    "\n",
    "obj = MyClass.new\n",
    "obj.instance_eval \"p 'hello'\"\n"
   ]
  },
  {
   "cell_type": "code",
   "execution_count": 36,
   "id": "ef01fcb4-93ea-4b76-bfc7-e685b253096f",
   "metadata": {},
   "outputs": [
    {
     "data": {
      "text/plain": [
       "2"
      ]
     },
     "execution_count": 36,
     "metadata": {},
     "output_type": "execute_result"
    }
   ],
   "source": [
    "v=2\n",
    "obj.instance_eval do\n",
    "  self # => #<MyClass:0x3340dc @v=1>\n",
    "  @v # => 1\n",
    "end\n",
    "\n",
    "obj.instance_eval { @v = v }\n",
    "obj.instance_eval { @v } # => 2"
   ]
  },
  {
   "cell_type": "code",
   "execution_count": 56,
   "id": "6826940c-c21b-410f-bf36-486783b53c59",
   "metadata": {},
   "outputs": [
    {
     "name": "stdout",
     "output_type": "stream",
     "text": [
      "\"hello\"\n"
     ]
    },
    {
     "data": {
      "text/plain": [
       "\"hello\""
      ]
     },
     "execution_count": 56,
     "metadata": {},
     "output_type": "execute_result"
    }
   ],
   "source": [
    "obj.instance_eval \"p 'hello'\""
   ]
  },
  {
   "cell_type": "markdown",
   "id": "d12adfe7-087e-4306-8746-30aa62b4f44e",
   "metadata": {},
   "source": [
    "# Object#instance_exec\n",
    "\n",
    "> instance_exec(arg...) {|var...| block } → obj\n",
    "\n",
    "Executes the given block within the context of the receiver (obj). \n",
    "In order to set the context, the variable self is set to obj while the code is executing, \n",
    "giving the code access to obj's instance variables. \n",
    "Arguments are passed as block parameters.\n",
    "\n",
    "```ruby\n",
    "class KlassWithSecret\n",
    "  def initialize\n",
    "    @secret = 99\n",
    "  end\n",
    "end\n",
    "k = KlassWithSecret.new\n",
    "k.instance_exec(5) {|x| @secret+x }   #=> 104\n",
    "```"
   ]
  },
  {
   "cell_type": "code",
   "execution_count": 37,
   "id": "f88bcd8d-0dd0-46e0-9273-2fa552346c84",
   "metadata": {},
   "outputs": [
    {
     "data": {
      "text/plain": [
       "9"
      ]
     },
     "execution_count": 37,
     "metadata": {},
     "output_type": "execute_result"
    }
   ],
   "source": [
    "class C\n",
    "  def initialize\n",
    "   @x, @y = 1, 2\n",
    "  end\n",
    "end\n",
    "\n",
    "C.new.instance_exec(3) {|arg| (@x + @y) * arg }  # => 9\n",
    "# C.new.instance_exec(\"p 'hello'\")"
   ]
  },
  {
   "cell_type": "code",
   "execution_count": null,
   "id": "b645fd92-c7af-4529-8e7a-630c97c075da",
   "metadata": {},
   "outputs": [],
   "source": []
  },
  {
   "cell_type": "markdown",
   "id": "98191149-b6df-451a-a17e-4ef62fd0b259",
   "metadata": {},
   "source": [
    "## instance_exec VS instance_eval\n",
    "\n",
    "### instance_exec 允许传入参数\n",
    "### instance_exec 不允许传入字符串"
   ]
  },
  {
   "cell_type": "code",
   "execution_count": null,
   "id": "c8ed13cb-01b8-43d9-8070-db2d633e511a",
   "metadata": {},
   "outputs": [],
   "source": []
  },
  {
   "cell_type": "markdown",
   "id": "7cea9e19-9338-42ad-83fa-78bdafb09eb4",
   "metadata": {},
   "source": [
    "# 洁净室\n",
    "\n",
    "有时创建一个对象，仅仅为了在其中执行块。这样的对象称为洁净室。\n",
    "\n"
   ]
  },
  {
   "cell_type": "code",
   "execution_count": 62,
   "id": "492eb4f2-3bb4-4e90-bfd6-96c090587a70",
   "metadata": {},
   "outputs": [],
   "source": [
    "class CleanRoom\n",
    "  def complex_calculation\n",
    "    # ...\n",
    "    11\n",
    "  end\n",
    "  \n",
    "  def do_something\n",
    "    # ...\n",
    "  end\n",
    "end\n",
    "\n",
    "clean_room = CleanRoom.new\n",
    "clean_room.instance_eval do\n",
    "  if complex_calculation > 10\n",
    "    do_something\n",
    "  end\n",
    "end\n"
   ]
  },
  {
   "cell_type": "markdown",
   "id": "97d06a77-dcd9-44d3-9839-532b04f44d7f",
   "metadata": {},
   "source": [
    "## 可调用对象\n",
    "\n",
    "* proc\n",
    "* Proc\n",
    "* lambda\n"
   ]
  },
  {
   "cell_type": "code",
   "execution_count": 64,
   "id": "ed771c89-66ea-4442-9607-d9d6c6730812",
   "metadata": {},
   "outputs": [
    {
     "data": {
      "text/plain": [
       "1"
      ]
     },
     "execution_count": 64,
     "metadata": {},
     "output_type": "execute_result"
    }
   ],
   "source": [
    "dec = lambda {|x| x - 1 }\n",
    "dec.class # => Proc\n",
    "dec.call(2) # => 1"
   ]
  },
  {
   "cell_type": "markdown",
   "id": "4e2354f8-81f1-4f0f-afb1-35a0bb33e6e4",
   "metadata": {},
   "source": [
    "# & 操作符\n",
    "\n",
    "* 把这个块传递给另外一个方法\n",
    "* 把这个块转为Proc\n"
   ]
  },
  {
   "cell_type": "code",
   "execution_count": 66,
   "id": "0f0c1ea2-dd74-4aa2-b0c8-09f404a363e0",
   "metadata": {},
   "outputs": [
    {
     "name": "stdout",
     "output_type": "stream",
     "text": [
      "Let's do the math:\n",
      "6\n"
     ]
    }
   ],
   "source": [
    "def math(a, b)\n",
    "  yield(a, b)\n",
    "end\n",
    "\n",
    "def teach_math(a, b, &operation)\n",
    "  puts \"Let's do the math:\"\n",
    "  puts math(a, b, &operation)\n",
    "end\n",
    "\n",
    "teach_math(2, 3) {|x, y| x * y}"
   ]
  },
  {
   "cell_type": "markdown",
   "id": "4be5e395-ec15-49be-a07a-140e4124939f",
   "metadata": {},
   "source": [
    "# 回顾：proc，lambda区别\n",
    "\n",
    "* 定义方式不同\n",
    "* return 不同\n",
    "* 对待参数的方式不同"
   ]
  },
  {
   "cell_type": "markdown",
   "id": "90358c91-fb5b-4b04-8ffa-727a87f7581f",
   "metadata": {},
   "source": [
    "# 重访方法"
   ]
  },
  {
   "cell_type": "code",
   "execution_count": 68,
   "id": "0d80ed02-8a69-4c9c-8ef9-ffe059389398",
   "metadata": {},
   "outputs": [
    {
     "ename": "SyntaxError",
     "evalue": "(irb):8: syntax error, unexpected `end', expecting end-of-input",
     "output_type": "error",
     "traceback": [
      "\u001b[31mSyntaxError\u001b[0m: (irb):8: syntax error, unexpected `end', expecting end-of-input"
     ]
    }
   ],
   "source": [
    "cladd MyClass\n",
    "  def initialize(value)\n",
    "    @x = value\n",
    "  end\n",
    "\n",
    "  def my_method\n",
    "    @x\n",
    "  end\n",
    "end\n",
    "\n",
    "object = MyClass.new(1)\n",
    "m = object.method :my_method\n",
    "m.call"
   ]
  },
  {
   "cell_type": "code",
   "execution_count": null,
   "id": "ca068f87-3407-4731-83db-dbc1d7cb58bd",
   "metadata": {},
   "outputs": [],
   "source": []
  }
 ],
 "metadata": {
  "kernelspec": {
   "display_name": "Ruby 2.7.4",
   "language": "ruby",
   "name": "ruby"
  },
  "language_info": {
   "file_extension": ".rb",
   "mimetype": "application/x-ruby",
   "name": "ruby",
   "version": "2.7.4"
  }
 },
 "nbformat": 4,
 "nbformat_minor": 5
}

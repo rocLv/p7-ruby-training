{
 "cells": [
  {
   "cell_type": "code",
   "execution_count": 1,
   "id": "cdbe2875-7a6d-4f41-a661-82a58702de60",
   "metadata": {},
   "outputs": [],
   "source": [
    "def cell_complete(self, cell, cell_index=None, **kwargs):\n",
    "    post_cell = \"\"\"\n",
    "    result = _\n",
    "    try:\n",
    "      import scrapbook as sb\n",
    "    except ImportError:\n",
    "      print(\"scrapbook not installed, no outcomes saved\")\n",
    "    else:\n",
    "      try:\n",
    "        if result:\n",
    "          sb.glue(f\"__result_{cell_index}\", result)\n",
    "      except sb.ScrapbookException:\n",
    "        print(\"Could not save result of cell {cell_index}\")\n",
    "    \"\"\"\n",
    "    self.execute_cell(post_cell, -1)\n",
    "    self.super(cell, cell_index, **kwargs)"
   ]
  },
  {
   "cell_type": "code",
   "execution_count": 2,
   "id": "fb3a62be-b4a3-4b8c-9b35-20b4e1bd83ed",
   "metadata": {},
   "outputs": [
    {
     "name": "stdout",
     "output_type": "stream",
     "text": [
      "hello\n"
     ]
    }
   ],
   "source": [
    "print(\"hello\")"
   ]
  },
  {
   "cell_type": "code",
   "execution_count": null,
   "id": "8edefaa6-0ef0-4d33-8de4-9411ad7eaf88",
   "metadata": {},
   "outputs": [],
   "source": []
  }
 ],
 "metadata": {
  "kernelspec": {
   "display_name": "Python 3",
   "language": "python",
   "name": "python3"
  },
  "language_info": {
   "codemirror_mode": {
    "name": "ipython",
    "version": 3
   },
   "file_extension": ".py",
   "mimetype": "text/x-python",
   "name": "python",
   "nbconvert_exporter": "python",
   "pygments_lexer": "ipython3",
   "version": "3.8.5"
  }
 },
 "nbformat": 4,
 "nbformat_minor": 5
}
